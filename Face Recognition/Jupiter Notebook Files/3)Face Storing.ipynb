{
 "cells": [
  {
   "cell_type": "code",
   "execution_count": 3,
   "metadata": {},
   "outputs": [],
   "source": [
    "import cv2\n",
    "import os\n",
    "import numpy as np"
   ]
  },
  {
   "cell_type": "code",
   "execution_count": 7,
   "metadata": {},
   "outputs": [],
   "source": [
    "cascPathface = os.path.dirname(cv2.__file__) + \"/data/haarcascade_frontalface_alt2.xml\" \n",
    "\n",
    "faceCascade = cv2.CascadeClassifier(cascPathface)"
   ]
  },
  {
   "cell_type": "code",
   "execution_count": 21,
   "metadata": {},
   "outputs": [
    {
     "name": "stdout",
     "output_type": "stream",
     "text": [
      "\n",
      " Enter the ID Number and Press <RETURN> \t2\n",
      "\n",
      " [INFO] Initializing face capture. Look into the camera and wait ...\n",
      "\n",
      " [INFO] Exiting Program and cleanup stuff\n"
     ]
    }
   ],
   "source": [
    "# Taking face id to store data of person\n",
    "\n",
    "face_id = input('\\n Enter the ID Number and Press <RETURN> \\t')\n",
    "\n",
    "# Printing info for the user\n",
    "print(\"\\n [INFO] Initializing face capture. Look into the camera and wait ...\")\n",
    "\n",
    "count = 0 # To store the number of images of specific person\n",
    "\n",
    "video_capture = cv2.VideoCapture(0)\n",
    "\n",
    "blank = np.zeros((500,1000,3), dtype=np.uint8)  # CREATING A BLANK IMAGE TO DISPLAY THE ERROR MESSAGE\n",
    "\n",
    "i=0\n",
    "\n",
    "while video_capture.isOpened():\n",
    "    ret,frame = video_capture.read()\n",
    "    \n",
    "    if not ret:\n",
    "        print(\"Unable to open video\")\n",
    "        break\n",
    "    \n",
    "    # For the classsifer to work we need to convert normal color to gray scale\n",
    "    gray = cv2.cvtColor(frame,cv2.COLOR_BGR2GRAY)\n",
    "    \n",
    "    faces = faceCascade.detectMultiScale(gray, # accepts only grayscale\n",
    "                                         scaleFactor=1.1, # scaling to better detect faces\n",
    "                                         minNeighbors=5, \n",
    "                                         minSize=(60, 60), # minimum size to recognize\n",
    "                                         flags=cv2.CASCADE_SCALE_IMAGE) \n",
    "    \n",
    "    for (x,y,w,h) in faces:\n",
    "        cv2.rectangle(frame, (x, y), (x + w, y + h),(0,255,0), 2)\n",
    "        \n",
    "        \n",
    "    frame = cv2.flip(frame,1)\n",
    "    frame = cv2.resize(frame,None,fx=1.75,fy=1.75)\n",
    "    \n",
    "    if len(faces) >=2 :\n",
    "        cv2.putText(frame,\"'Error' More faces detected, will close if not removed\",(100,50),None , 1,(255,255,255),2)\n",
    "        i=i+1\n",
    "        if i>=100:\n",
    "            cv2.destroyWindow('Video')\n",
    "            cv2.putText(blank,\"'Sorry' Stopped due to more faces\",(0,50),None,1,(255,255,255),2)\n",
    "            cv2.imshow('Error! Closed',blank)\n",
    "            if cv2.waitKey(0) & 0xFF == ord('q'):\n",
    "                break\n",
    "    \n",
    "    #if len(faces) == 1:\n",
    "    # Perform facial recognition......\n",
    "    \n",
    "    cv2.imshow('Video',frame)\n",
    "    \n",
    "    # MANUAL STORING\n",
    "    if cv2.waitKey(1) & 0xFF == ord('s'):\n",
    "        count+=1\n",
    "        cv2.imwrite(r'C:\\Users\\Janardhan\\Desktop\\Dataset_Faces\\User.'+ str(face_id) + '.' + \n",
    "                    str(count) + \".jpg\", gray[y:y+h,x:x+w])\n",
    "        if count >= 5:\n",
    "            cv2.destroyWindow('Video')\n",
    "            cv2.putText(blank,\"Enough face Images recorded\",(0,50),None,1,(255,255,255),2)\n",
    "            cv2.imshow('Note',blank)\n",
    "            if cv2.waitKey(0) & 0xFF == ord('q'):\n",
    "                break\n",
    "    \n",
    "    if cv2.waitKey(10) & 0xFF == ord('q'):\n",
    "        break\n",
    "\n",
    "print(\"\\n [INFO] Exiting Program and cleanup stuff\")\n",
    "video_capture.release()\n",
    "cv2.destroyAllWindows()"
   ]
  },
  {
   "cell_type": "code",
   "execution_count": null,
   "metadata": {},
   "outputs": [],
   "source": []
  }
 ],
 "metadata": {
  "kernelspec": {
   "display_name": "Python 3",
   "language": "python",
   "name": "python3"
  },
  "language_info": {
   "codemirror_mode": {
    "name": "ipython",
    "version": 3
   },
   "file_extension": ".py",
   "mimetype": "text/x-python",
   "name": "python",
   "nbconvert_exporter": "python",
   "pygments_lexer": "ipython3",
   "version": "3.7.3"
  }
 },
 "nbformat": 4,
 "nbformat_minor": 2
}
