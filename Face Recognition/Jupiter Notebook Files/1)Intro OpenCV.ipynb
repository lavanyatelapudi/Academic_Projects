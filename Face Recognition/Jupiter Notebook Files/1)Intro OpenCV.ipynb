{
 "cells": [
  {
   "cell_type": "code",
   "execution_count": 1,
   "metadata": {},
   "outputs": [],
   "source": [
    "import cv2"
   ]
  },
  {
   "cell_type": "code",
   "execution_count": 10,
   "metadata": {},
   "outputs": [],
   "source": [
    "image = cv2.imread(r'C:\\Users\\Janardhan\\Desktop\\1.jpeg',1) #USED TO READ THE IMAGE FROM THE GIVEN PATH\n",
    "#CV2.IMREAD(PATH,FLAG) FLAG = 1 (NORMAL IMAGE), 0 (GRAY SCALE), -1 (NO-CHANGE)"
   ]
  },
  {
   "cell_type": "code",
   "execution_count": 3,
   "metadata": {
    "scrolled": true
   },
   "outputs": [
    {
     "data": {
      "text/plain": [
       "array([[238, 238, 238, ..., 224, 224, 224],\n",
       "       [238, 238, 238, ..., 224, 224, 224],\n",
       "       [238, 238, 238, ..., 224, 224, 224],\n",
       "       ...,\n",
       "       [107, 109, 112, ...,  19,  17,  17],\n",
       "       [109, 112, 116, ...,  20,  21,  22],\n",
       "       [111, 114, 119, ...,  21,  22,  25]], dtype=uint8)"
      ]
     },
     "execution_count": 3,
     "metadata": {},
     "output_type": "execute_result"
    }
   ],
   "source": [
    "image #IS AN ARRAY OF PIXELS"
   ]
  },
  {
   "cell_type": "code",
   "execution_count": 6,
   "metadata": {},
   "outputs": [
    {
     "data": {
      "text/plain": [
       "True"
      ]
     },
     "execution_count": 6,
     "metadata": {},
     "output_type": "execute_result"
    }
   ],
   "source": [
    "cv2.imwrite(r\"C:\\Users\\Janardhan\\Desktop\\Abhilash_budharapu.png\",image)"
   ]
  },
  {
   "cell_type": "code",
   "execution_count": 29,
   "metadata": {},
   "outputs": [
    {
     "data": {
      "text/plain": [
       "(1280, 583, 3)"
      ]
     },
     "execution_count": 29,
     "metadata": {},
     "output_type": "execute_result"
    }
   ],
   "source": [
    "image.shape #rows, columns, channels CHANNELS = RGB or GRAYSCALE"
   ]
  },
  {
   "cell_type": "code",
   "execution_count": 6,
   "metadata": {},
   "outputs": [
    {
     "data": {
      "text/plain": [
       "746240"
      ]
     },
     "execution_count": 6,
     "metadata": {},
     "output_type": "execute_result"
    }
   ],
   "source": [
    "image.size #GIVES THE NUMBER OF PIXELS IN IMAGE"
   ]
  },
  {
   "cell_type": "code",
   "execution_count": 7,
   "metadata": {},
   "outputs": [
    {
     "data": {
      "text/plain": [
       "dtype('uint8')"
      ]
     },
     "execution_count": 7,
     "metadata": {},
     "output_type": "execute_result"
    }
   ],
   "source": [
    "image.dtype #gives the datatype of the image"
   ]
  },
  {
   "cell_type": "code",
   "execution_count": 13,
   "metadata": {},
   "outputs": [],
   "source": [
    "cv2.imshow('image',image) #used to show image\n",
    "cv2.waitKey(5000) #wait untill some key is pressed \n",
    "# Argument is the time in milli seconds \n",
    "# if 0 is passed as argument then waits until keyboard key is pressed\n",
    "cv2.destroyAllWindows() \n",
    "\n",
    "# THIS GIVE AN IMAGE WHICH DOESN'T FIT IN THE SCREEN"
   ]
  },
  {
   "cell_type": "code",
   "execution_count": 19,
   "metadata": {},
   "outputs": [],
   "source": [
    "# RESIZING THE IMAGE WITH HALF THE VALUES OF X AND Y\n",
    "\n",
    "resized_image = cv2.resize(image,None,fx=0.5,fy=0.5,interpolation = cv2.INTER_AREA)\n",
    "cv2.imshow('Image',resized_image)\n",
    "cv2.waitKey(0)\n",
    "cv2.destroyAllWindows()"
   ]
  },
  {
   "cell_type": "code",
   "execution_count": 20,
   "metadata": {},
   "outputs": [],
   "source": [
    "# ROTATING AN IMAGE\n",
    "\n",
    "rotated_image = cv2.rotate(image,cv2.ROTATE_90_COUNTERCLOCKWISE)\n",
    "cv2.imshow('Rotated',rotated_image)\n",
    "cv2.waitKey(0)\n",
    "cv2.destroyAllWindows()"
   ]
  },
  {
   "cell_type": "code",
   "execution_count": 29,
   "metadata": {},
   "outputs": [],
   "source": [
    "#DRAWING CIRCLE \n",
    "# SYNTAX:\n",
    "# cv2.circle(image,(x-coordinates,y-coordinates),radius,(BGR),thickness)\n",
    "\n",
    "image = cv2.imread(r'C:\\Users\\Janardhan\\Desktop\\1.jpeg',1)\n",
    "cv2.circle(image,(500,80), 55, (0,0,0), 20)  \n",
    "cv2.imshow('image',image)  \n",
    "cv2.waitKey(0)  \n",
    "cv2.destroyAllWindows()"
   ]
  },
  {
   "cell_type": "code",
   "execution_count": 30,
   "metadata": {},
   "outputs": [],
   "source": [
    "# DRAWING RECTANGLE\n",
    "# SYNTAX:\n",
    "# cv2.rectangle(image, start_point_coordinates, end_point_coordinates, (BGR), thickness)\n",
    "\n",
    "image = cv2.imread(r'C:\\Users\\Janardhan\\Desktop\\1.jpeg',1)\n",
    "cv2.rectangle(image,(15,25),(200,150),(0,255,255),1)  \n",
    "cv2.imshow('image',image)  \n",
    "cv2.waitKey(0)  \n",
    "cv2.destroyAllWindows()"
   ]
  },
  {
   "cell_type": "code",
   "execution_count": 31,
   "metadata": {},
   "outputs": [],
   "source": [
    "# ADDING TEXT TO IMAGE\n",
    "\n",
    "image = cv2.imread(r'C:\\Users\\Janardhan\\Desktop\\1.jpeg',1)\n",
    "image = cv2.resize(image,None,fx=0.5,fy=0.5,interpolation = cv2.INTER_AREA)\n",
    "cv2.putText(image,'Abhilash',(100,500),None,1,(255,255,255),2)  \n",
    "#Display the image  \n",
    "cv2.imshow(\"image\",image)  \n",
    "cv2.waitKey(0) \n",
    "cv2.destroyAllWindows()"
   ]
  },
  {
   "cell_type": "code",
   "execution_count": 32,
   "metadata": {},
   "outputs": [
    {
     "name": "stdout",
     "output_type": "stream",
     "text": [
      "True\n",
      "Can't retrive Frame\n",
      "'Video has ended'\n"
     ]
    }
   ],
   "source": [
    "#RUNNING WEBCAM\n",
    "\n",
    "video_capture = cv2.VideoCapture(0) #ON THE CAMERA\n",
    "print(video_capture.isOpened())\n",
    "\n",
    "while video_capture.isOpened(): #FOR LOOP FOR CONTINUOUS CAPTURING\n",
    "    ret,frame = video_capture.read() #RETENTION = True if camera opens else False, FRAMES = Captures the video\n",
    "    if not ret: #if false end the loop because it can damage the camera\n",
    "        print(\"Can't retrive Frame\")\n",
    "        break\n",
    "    \n",
    "    #resized_frame = cv2.resize(frame,(0,0),fx=2,fy=2) # FOR RESIZING THE VIDEO \n",
    "    \n",
    "    flip_horizontal_frame = cv2.flip(frame,1) # BECAUSE THE VIDEO CAPTURING IS FLIPPED TO MAKE IT ORIGINAL WE'RE FLIPPING \n",
    "    # TO FLIP VERTICAL USE 0\n",
    "    \n",
    "    cv2.imshow('Video', flip_horizontal_frame) #showing the video in seperate window named Video\n",
    "    \n",
    "    if cv2.waitKey(1) & 0xFF == ord('q') : # Break the video is the key 'q' is pressed \n",
    "        #If you are using a 64-bit machine, \n",
    "        #you will have to modify k = cv2.waitKey(0) line as follows : k = cv2.waitKey(0) & 0xFF\n",
    "        #waitKey Argument is the FSP frames per second \n",
    "        # 1 indicates 1 frame in 1 milli seconds (FAST and CLEAR)\n",
    "        # 10 indicates 1 frame in 10 milli seconds\n",
    "        # 1000 indicates 1 frame in 1 second (SLOW)\n",
    "        # 0 indicates no frames i.e., video is paused \n",
    "        break\n",
    "        \n",
    "print(\"'Video has ended'\") # Display the comment \n",
    "video_capture.release() # Stop the video recording\n",
    "cv2.destroyAllWindows() # Destroy all the windows"
   ]
  },
  {
   "cell_type": "code",
   "execution_count": 33,
   "metadata": {},
   "outputs": [
    {
     "name": "stdout",
     "output_type": "stream",
     "text": [
      "True\n",
      "Video is stopped\n"
     ]
    }
   ],
   "source": [
    "#RUNNING A VIDEO FILE \n",
    "\n",
    "video_path = r\"C:\\Users\\Janardhan\\Pictures\\Video Projects\\ABHILASH BUDHARAPU.mp4\"\n",
    "\n",
    "video_capture = cv2.VideoCapture(video_path)\n",
    "\n",
    "print(video_capture.isOpened())\n",
    "\n",
    "while video_capture.isOpened():\n",
    "    ret, frame = video_capture.read()\n",
    "    \n",
    "    if not ret:\n",
    "        print(\"Unable to open video\")\n",
    "        break\n",
    "    \n",
    "    resized_frame = cv2.resize(frame,None,fx=0.5,fy=0.5)\n",
    "    cv2.imshow('Video',resized_frame)\n",
    "    \n",
    "    if cv2.waitKey(10) & 0xFF == ord('q'):\n",
    "        print(\"Video is stopped\")\n",
    "        break\n",
    "        \n",
    "video_capture.release()\n",
    "cv2.destroyAllWindows()"
   ]
  },
  {
   "cell_type": "markdown",
   "metadata": {},
   "source": [
    "## OTHER USES OF OPENCV ADVANCED :\n",
    "### TEMPLATE MATCHING\n",
    "### IMAGE THRESHOLD"
   ]
  },
  {
   "cell_type": "code",
   "execution_count": null,
   "metadata": {},
   "outputs": [],
   "source": []
  }
 ],
 "metadata": {
  "kernelspec": {
   "display_name": "Python 3",
   "language": "python",
   "name": "python3"
  },
  "language_info": {
   "codemirror_mode": {
    "name": "ipython",
    "version": 3
   },
   "file_extension": ".py",
   "mimetype": "text/x-python",
   "name": "python",
   "nbconvert_exporter": "python",
   "pygments_lexer": "ipython3",
   "version": "3.7.3"
  }
 },
 "nbformat": 4,
 "nbformat_minor": 2
}
