{
 "cells": [
  {
   "cell_type": "code",
   "execution_count": 1,
   "metadata": {},
   "outputs": [],
   "source": [
    "import cv2\n",
    "import os\n",
    "import numpy as np\n",
    "from PIL import Image"
   ]
  },
  {
   "cell_type": "code",
   "execution_count": 4,
   "metadata": {},
   "outputs": [],
   "source": [
    "cascPathface = os.path.dirname(cv2.__file__) + \"/data/haarcascade_frontalface_alt2.xml\" \n",
    "detector = cv2.CascadeClassifier(cascPathface)"
   ]
  },
  {
   "cell_type": "code",
   "execution_count": 2,
   "metadata": {},
   "outputs": [
    {
     "name": "stdout",
     "output_type": "stream",
     "text": [
      "C:\\Users\\Janardhan\n"
     ]
    }
   ],
   "source": [
    "print(os.getcwd()) # gets current directory"
   ]
  },
  {
   "cell_type": "code",
   "execution_count": 8,
   "metadata": {
    "scrolled": true
   },
   "outputs": [
    {
     "name": "stdout",
     "output_type": "stream",
     "text": [
      "C:\\Users\\Janardhan\\Desktop\\FACE_RECOG\\Dataset_Faces\\test.txt\n",
      "Dataset_Faces\n"
     ]
    }
   ],
   "source": [
    "path = r'C:\\Users\\Janardhan\\Desktop\\FACE_RECOG\\Dataset_Faces'\n",
    "print(os.path.join(path,'test.txt'))\n",
    "\n",
    "print(os.path.split(path)[-1])\n"
   ]
  },
  {
   "cell_type": "code",
   "execution_count": 3,
   "metadata": {},
   "outputs": [],
   "source": [
    "for f in os.listdir(r'C:\\Users\\Janardhan\\Desktop\\FACE_RECOG\\Dataset_Faces'):\n",
    "    img = Image.open(os.path.join(r'C:\\Users\\Janardhan\\Desktop\\FACE_RECOG\\Dataset_Faces',f))\n",
    "    img.show()"
   ]
  },
  {
   "cell_type": "code",
   "execution_count": 5,
   "metadata": {},
   "outputs": [],
   "source": [
    "path = r'C:\\Users\\Janardhan\\Desktop\\FACE_RECOG\\Dataset_Faces'\n",
    "\n",
    "facesamples = [] #storing facesamples\n",
    "ids = [] #storing face ids\n",
    "imagepaths = [os.path.join(path,f) for f in os.listdir(path)] #taking all the image path from the directory and storing in array"
   ]
  },
  {
   "cell_type": "code",
   "execution_count": 6,
   "metadata": {},
   "outputs": [
    {
     "name": "stdout",
     "output_type": "stream",
     "text": [
      "['C:\\\\Users\\\\Janardhan\\\\Desktop\\\\FACE_RECOG\\\\Dataset_Faces\\\\User.1.1.jpg', 'C:\\\\Users\\\\Janardhan\\\\Desktop\\\\FACE_RECOG\\\\Dataset_Faces\\\\User.1.2.jpg', 'C:\\\\Users\\\\Janardhan\\\\Desktop\\\\FACE_RECOG\\\\Dataset_Faces\\\\User.1.3.jpg', 'C:\\\\Users\\\\Janardhan\\\\Desktop\\\\FACE_RECOG\\\\Dataset_Faces\\\\User.1.4.jpg', 'C:\\\\Users\\\\Janardhan\\\\Desktop\\\\FACE_RECOG\\\\Dataset_Faces\\\\User.1.5.jpg']\n"
     ]
    }
   ],
   "source": [
    "print(imagepaths)"
   ]
  },
  {
   "cell_type": "code",
   "execution_count": 7,
   "metadata": {},
   "outputs": [],
   "source": [
    "for imagepath in imagepaths: #iterating through the imagepaths\n",
    "    \n",
    "    img_PIL = Image.open(imagepath).convert('L') #convert into gray scale\n",
    "    \n",
    "    img_numpy = np.array(img_PIL,'uint8') #convert into numpy array\n",
    "    \n",
    "    Id = int(os.path.split(imagepath)[-1].split(\".\")[1]) #taking only the id numbers\n",
    "    \n",
    "    faces = detector.detectMultiScale(img_numpy)\n",
    "    \n",
    "    for (x,y,w,h) in faces: #iterating through image co-ordinates\n",
    "        facesamples.append(img_numpy[y:y+h,x:x+w]) #appending the faces\n",
    "        \n",
    "        ids.append(Id) #appending the ids\n"
   ]
  },
  {
   "cell_type": "code",
   "execution_count": 8,
   "metadata": {},
   "outputs": [
    {
     "name": "stdout",
     "output_type": "stream",
     "text": [
      "[array([[ 26,  25,  24, ..., 102, 103,  90],\n",
      "       [ 26,  25,  24, ..., 119, 116,  96],\n",
      "       [ 25,  25,  25, ..., 119, 114,  94],\n",
      "       ...,\n",
      "       [ 86,  87,  85, ..., 108, 109, 108],\n",
      "       [ 88,  88,  87, ..., 108, 109, 108],\n",
      "       [ 88,  88,  86, ..., 108, 108, 107]], dtype=uint8), array([[ 27,  26,  27, ...,  61,  66,  66],\n",
      "       [ 27,  28,  27, ...,  65,  66,  64],\n",
      "       [ 25,  28,  25, ...,  66,  62,  60],\n",
      "       ...,\n",
      "       [ 88,  90,  87, ..., 103, 104, 105],\n",
      "       [ 88,  87,  88, ..., 102, 103, 104],\n",
      "       [ 87,  86,  87, ..., 102, 103, 103]], dtype=uint8), array([[ 23,  23,  24, ...,  84,  85,  78],\n",
      "       [ 25,  23,  23, ...,  84,  86,  77],\n",
      "       [ 26,  24,  22, ...,  84,  80,  73],\n",
      "       ...,\n",
      "       [ 87,  85,  85, ..., 103, 104, 103],\n",
      "       [ 89,  88,  88, ..., 102, 104, 103],\n",
      "       [ 85,  86,  86, ..., 101, 101, 103]], dtype=uint8), array([[ 27,  27,  27, ...,  55,  46,  53],\n",
      "       [ 25,  26,  26, ...,  52,  45,  58],\n",
      "       [ 23,  23,  25, ...,  50,  49,  65],\n",
      "       ...,\n",
      "       [ 89,  90,  90, ..., 106, 106, 106],\n",
      "       [ 88,  88,  87, ..., 104, 106, 106],\n",
      "       [ 88,  87,  86, ..., 104, 106, 106]], dtype=uint8), array([[ 26,  24,  22, ...,  81,  85,  85],\n",
      "       [ 26,  25,  23, ...,  88,  83,  76],\n",
      "       [ 26,  25,  23, ...,  98,  87,  71],\n",
      "       ...,\n",
      "       [ 89,  89,  89, ..., 104, 105, 106],\n",
      "       [ 89,  88,  87, ..., 104, 104, 104],\n",
      "       [ 89,  89,  88, ..., 104, 104, 104]], dtype=uint8)]\n"
     ]
    }
   ],
   "source": [
    "print(facesamples) #facesamples in form of array"
   ]
  },
  {
   "cell_type": "code",
   "execution_count": 9,
   "metadata": {},
   "outputs": [
    {
     "name": "stdout",
     "output_type": "stream",
     "text": [
      "[1, 1, 1, 1, 1]\n"
     ]
    }
   ],
   "source": [
    "print(ids) #face ids"
   ]
  },
  {
   "cell_type": "code",
   "execution_count": 10,
   "metadata": {},
   "outputs": [],
   "source": [
    "recognizer = cv2.face.LBPHFaceRecognizer_create() # Recognizer for creating a file"
   ]
  },
  {
   "cell_type": "code",
   "execution_count": 12,
   "metadata": {},
   "outputs": [],
   "source": [
    "recognizer.train(facesamples, np.array(ids)) # training using facesamples and face ids\n",
    "\n",
    "recognizer.write(r'C:\\Users\\Janardhan\\Desktop\\FACE_RECOG\\Trainer\\trainer.yml') # creating an file and storing all the data\n",
    "\n",
    "# this we will use in next step \"FACE RECOGNITION\""
   ]
  },
  {
   "cell_type": "code",
   "execution_count": null,
   "metadata": {},
   "outputs": [],
   "source": []
  }
 ],
 "metadata": {
  "kernelspec": {
   "display_name": "Python 3",
   "language": "python",
   "name": "python3"
  },
  "language_info": {
   "codemirror_mode": {
    "name": "ipython",
    "version": 3
   },
   "file_extension": ".py",
   "mimetype": "text/x-python",
   "name": "python",
   "nbconvert_exporter": "python",
   "pygments_lexer": "ipython3",
   "version": "3.7.3"
  }
 },
 "nbformat": 4,
 "nbformat_minor": 2
}
