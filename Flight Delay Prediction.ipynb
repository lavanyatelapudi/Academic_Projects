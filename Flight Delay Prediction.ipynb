{
 "cells": [
  {
   "cell_type": "markdown",
   "id": "e9c9c488-f088-4c9f-88c1-456387d6d39f",
   "metadata": {
    "id": "e9c9c488-f088-4c9f-88c1-456387d6d39f"
   },
   "source": [
    "## DATA 601 Project-2\n",
    "Due date: May 19, 2022. 23:59 pm.<br>\n",
    "Groups will be determined at the April 29 class. <br>\n",
    "<br>\n",
    "\n",
    "For your second project, you will be working on the flights dataset that we used earlier. <br>\n",
    "We have 5 csv files and 5 Excel files. You can learn more about the content of the csv files at <br>\n",
    "https://cran.r-project.org/web/packages/nycflights13/nycflights13.pdf\n",
    "<br>\n",
    "<br>\n",
    "<b> FILES (https://github.com/simsekergun/DATA601/tree/main/Project2/datasets) </b>\n",
    "* flights2DCMDVA.xlsx (Note that this is a smaller version of the original NYCflights13.csv data) <br>\n",
    "* airlines.csv <br>\n",
    "* airports.csv <br>\n",
    "* planes.csv <br>\n",
    "* weatherNYhourly.csv (NY daily weather)<br>\n",
    "* weatherMDdaily.xlsx (MD daily temperature/precip/snow data) <br>\n",
    "* weatherNYdaily.xlsx (NY daily temperature/precip/snow data) <br>\n",
    "* federal-holidays-2013.xlsx <br>\n",
    "* flights_test_data.xlsx (only needed for Q4 and Q5)<br>"
   ]
  },
  {
   "cell_type": "markdown",
   "id": "52e9209a-dc87-409c-b7cb-684e7c09b795",
   "metadata": {
    "id": "52e9209a-dc87-409c-b7cb-684e7c09b795"
   },
   "source": [
    "We are only interested in flights from NY to three local airports:\n",
    "* IAD: Dulles International Airport\n",
    "* BWI: Baltimore/Washington International Thurgood Marshall Airport\n",
    "* DCA: Ronald Reagan Washington National Airport"
   ]
  },
  {
   "cell_type": "code",
   "execution_count": 1,
   "id": "_0Ge-UUqyzxR",
   "metadata": {
    "executionInfo": {
     "elapsed": 1063,
     "status": "ok",
     "timestamp": 1652828504134,
     "user": {
      "displayName": "Showri Niharika Yeruva",
      "userId": "14521647222791367626"
     },
     "user_tz": 240
    },
    "id": "_0Ge-UUqyzxR"
   },
   "outputs": [
    {
     "ename": "ModuleNotFoundError",
     "evalue": "No module named 'seaborn'",
     "output_type": "error",
     "traceback": [
      "\u001b[1;31m---------------------------------------------------------------------------\u001b[0m",
      "\u001b[1;31mModuleNotFoundError\u001b[0m                       Traceback (most recent call last)",
      "\u001b[1;32mC:\\Users\\LAVANY~1\\AppData\\Local\\Temp/ipykernel_20224/2247387849.py\u001b[0m in \u001b[0;36m<module>\u001b[1;34m\u001b[0m\n\u001b[0;32m      4\u001b[0m \u001b[1;32mimport\u001b[0m \u001b[0mmatplotlib\u001b[0m\u001b[1;33m.\u001b[0m\u001b[0mpyplot\u001b[0m \u001b[1;32mas\u001b[0m \u001b[0mplt\u001b[0m\u001b[1;33m\u001b[0m\u001b[1;33m\u001b[0m\u001b[0m\n\u001b[0;32m      5\u001b[0m \u001b[1;32mfrom\u001b[0m \u001b[0mmatplotlib\u001b[0m\u001b[1;33m.\u001b[0m\u001b[0mpyplot\u001b[0m \u001b[1;32mimport\u001b[0m \u001b[0mbar\u001b[0m\u001b[1;33m\u001b[0m\u001b[1;33m\u001b[0m\u001b[0m\n\u001b[1;32m----> 6\u001b[1;33m \u001b[1;32mimport\u001b[0m \u001b[0mseaborn\u001b[0m \u001b[1;32mas\u001b[0m \u001b[0msns\u001b[0m\u001b[1;33m\u001b[0m\u001b[1;33m\u001b[0m\u001b[0m\n\u001b[0m\u001b[0;32m      7\u001b[0m \u001b[1;31m# sklearn stuff\u001b[0m\u001b[1;33m\u001b[0m\u001b[1;33m\u001b[0m\u001b[0m\n\u001b[0;32m      8\u001b[0m \u001b[1;32mfrom\u001b[0m \u001b[0msklearn\u001b[0m\u001b[1;33m.\u001b[0m\u001b[0mmetrics\u001b[0m \u001b[1;32mimport\u001b[0m \u001b[0mr2_score\u001b[0m\u001b[1;33m\u001b[0m\u001b[1;33m\u001b[0m\u001b[0m\n",
      "\u001b[1;31mModuleNotFoundError\u001b[0m: No module named 'seaborn'"
     ]
    }
   ],
   "source": [
    "# USUAL SUSPECTS\n",
    "import numpy as np\n",
    "import pandas as pd\n",
    "import matplotlib.pyplot as plt\n",
    "from matplotlib.pyplot import bar\n",
    "import seaborn as sns\n",
    "# sklearn stuff\n",
    "from sklearn.metrics import r2_score\n",
    "from sklearn.model_selection import train_test_split\n",
    "from sklearn.feature_selection import SelectKBest\n",
    "from sklearn.feature_selection import f_regression\n",
    "from sklearn.linear_model import LinearRegression\n",
    "from sklearn.metrics import mean_absolute_error\n",
    "from sklearn.linear_model import LogisticRegression\n",
    "from sklearn.metrics import confusion_matrix"
   ]
  },
  {
   "cell_type": "code",
   "execution_count": null,
   "id": "92b79d89",
   "metadata": {},
   "outputs": [],
   "source": [
    "flights = pd.read_csv(r\"flights.csv\",low_memory=False)\n",
    "flights.head()"
   ]
  },
  {
   "cell_type": "code",
   "execution_count": null,
   "id": "9ad043ef",
   "metadata": {},
   "outputs": [],
   "source": [
    "flights.shape"
   ]
  },
  {
   "cell_type": "code",
   "execution_count": null,
   "id": "2bb6ff2a",
   "metadata": {},
   "outputs": [],
   "source": [
    "flights.dtypes"
   ]
  },
  {
   "cell_type": "code",
   "execution_count": null,
   "id": "b46c7688",
   "metadata": {},
   "outputs": [],
   "source": [
    "flights.size"
   ]
  },
  {
   "cell_type": "code",
   "execution_count": null,
   "id": "a7adc587",
   "metadata": {},
   "outputs": [],
   "source": [
    "flights.columns"
   ]
  },
  {
   "cell_type": "code",
   "execution_count": null,
   "id": "a6edb766",
   "metadata": {},
   "outputs": [],
   "source": [
    "flights.mean()"
   ]
  },
  {
   "cell_type": "code",
   "execution_count": null,
   "id": "598378a4",
   "metadata": {},
   "outputs": [],
   "source": [
    "flights.min()"
   ]
  },
  {
   "cell_type": "code",
   "execution_count": null,
   "id": "82501b03",
   "metadata": {},
   "outputs": [],
   "source": [
    "flights.max()"
   ]
  },
  {
   "cell_type": "code",
   "execution_count": null,
   "id": "3e9079b2",
   "metadata": {},
   "outputs": [],
   "source": [
    "flights.var()"
   ]
  },
  {
   "cell_type": "code",
   "execution_count": null,
   "id": "bb59ff56",
   "metadata": {},
   "outputs": [],
   "source": [
    "flights.std()"
   ]
  },
  {
   "cell_type": "code",
   "execution_count": null,
   "id": "fe565b19",
   "metadata": {},
   "outputs": [],
   "source": [
    "flights.describe()"
   ]
  },
  {
   "cell_type": "code",
   "execution_count": null,
   "id": "e2d852ed",
   "metadata": {},
   "outputs": [],
   "source": [
    "flights.info()"
   ]
  },
  {
   "cell_type": "code",
   "execution_count": null,
   "id": "c5f2e2d9",
   "metadata": {},
   "outputs": [],
   "source": [
    "import matplotlib.pyplot as plt\n",
    "flights.hist(figsize=(12,12))\n",
    "plt.show()"
   ]
  },
  {
   "cell_type": "code",
   "execution_count": null,
   "id": "c4310a9f",
   "metadata": {},
   "outputs": [],
   "source": [
    "corr = flights.corr()\n",
    "corr.style.background_gradient(cmap='coolwarm')"
   ]
  },
  {
   "cell_type": "code",
   "execution_count": null,
   "id": "2b30f28e",
   "metadata": {},
   "outputs": [],
   "source": [
    "corr.style.background_gradient(cmap='magma')"
   ]
  },
  {
   "cell_type": "code",
   "execution_count": null,
   "id": "e549c8b3",
   "metadata": {},
   "outputs": [],
   "source": [
    "airlines = pd.read_csv(r\"airlines.csv\",low_memory=False)\n",
    "airlines.head()"
   ]
  },
  {
   "cell_type": "code",
   "execution_count": null,
   "id": "d90cb132",
   "metadata": {},
   "outputs": [],
   "source": [
    "airports = pd.read_csv(r\"airports.csv\",low_memory=False)\n",
    "airports.head()"
   ]
  },
  {
   "cell_type": "code",
   "execution_count": null,
   "id": "f4927c49",
   "metadata": {},
   "outputs": [],
   "source": [
    "planes = pd.read_csv(r\"planes.csv\",low_memory=False)\n",
    "planes.head()"
   ]
  },
  {
   "cell_type": "code",
   "execution_count": null,
   "id": "2f1d2783",
   "metadata": {},
   "outputs": [],
   "source": [
    "weatherNYhourly = pd.read_csv(r\"weatherNYhourly.csv\",low_memory=False)\n",
    "weatherNYhourly.head()"
   ]
  },
  {
   "cell_type": "code",
   "execution_count": null,
   "id": "c6922f85",
   "metadata": {},
   "outputs": [],
   "source": [
    "flights2DCMDVA = pd.read_excel(r\"flights2DCMDVA.xlsx\")\n",
    "flights2DCMDVA.head()"
   ]
  },
  {
   "cell_type": "code",
   "execution_count": null,
   "id": "11a27fc4",
   "metadata": {},
   "outputs": [],
   "source": [
    "weatherMDdaily = pd.read_excel(r\"weatherMDdaily.xlsx\")\n",
    "weatherMDdaily.head()"
   ]
  },
  {
   "cell_type": "code",
   "execution_count": null,
   "id": "71e3244b",
   "metadata": {},
   "outputs": [],
   "source": [
    "weatherNYdaily = pd.read_excel(r\"weatherNYdaily.xlsx\")\n",
    "weatherNYdaily.head()"
   ]
  },
  {
   "cell_type": "code",
   "execution_count": null,
   "id": "416b253e",
   "metadata": {},
   "outputs": [],
   "source": [
    "federal_holidays_2013 = pd.read_excel(r\"federal-holidays-2013.xlsx\")\n",
    "federal_holidays_2013.head()"
   ]
  },
  {
   "cell_type": "markdown",
   "id": "0551513f-58a4-4412-b87f-8db1db0e8290",
   "metadata": {
    "id": "0551513f-58a4-4412-b87f-8db1db0e8290"
   },
   "source": [
    "After carrying out EDA, please work on the following questions. You will need to submit your notebook and report (as a pdf file). <br> \n",
    "The report should include\n",
    "* Names of the students, Title of the project (e.g. DATA 601 | Project 2| NY-DC/MD/VA Flights), and date\n",
    "* A brief introduction\n",
    "* Clear answers to the questions. Make sure that you have enough number of images with proper figure captions and numbering."
   ]
  },
  {
   "cell_type": "markdown",
   "id": "7ef2a0a4-56f1-4907-8087-ffb1965cbee1",
   "metadata": {
    "id": "7ef2a0a4-56f1-4907-8087-ffb1965cbee1"
   },
   "source": [
    "Answer the following questions or complete the tasks <br>\n",
    "\n",
    "#### Question/Task 1\n",
    "a. Calculate the total number of seats for all the planned flights for each destination separately? <br>\n",
    "b. What is the day of the year with the highest number of flights? <br>\n",
    "c. What is the day of the year with the highest number of seats available on that day? <br>\n",
    "\n",
    "#### Question/Task 2\n",
    "a. What day of the year most cancellations happened? <br>\n",
    "b. Is there any relationship between the weather datasets and cancellations? If yes, describe it and justify with a statistical model (hypothesis testing).<br>\n",
    "c. Is there any relationship between the Federal Holiday Schedule and cancellations? If yes, describe it and justify with a statistical model (hypothesis testing).<br>\n",
    "d. What is the total number of seats for the cancelled flights? If we assume the average flight price of $50, what is the total economis loss?<br>\n",
    "e. Determine the ratio of cancelled flights/planned flights for each airline company, list it, and determine the most and least reliable airline company (most reliable = the one that has the smallest ratio of cancelled/planned)<br>\n",
    "\n",
    "\n",
    "For the next group of questions/tasks, do not include the cancelled flights.\n",
    "\n",
    "#### Question/Task 3\n",
    "a. Calculate the average arrival delay for all the flights that took place in the same day and plot it (x = 1:365, y = daily average delay). On the same plot, please mark the Federal Holidays from the federal-holidays-2013.xlsx dataset.<br>\n",
    "b. Is there a correlation between the weather datasets and daily average arrival delay? Justify your answer with a statistical model (hypothesis testing)<br>\n",
    "c. Is there a correlation between the Federal Holiday Schedule and daily average arrival delay?<br>\n",
    "d. Calculate the average arrival delay for all the flights for each arrival airport (e.g. IAD, DCA, and BWI) and determine most and least reliables (most reliable = the one that has the shortest average delay)<br>\n",
    "e. Calculate the average arrival delay for all the airlines and determine most and least reliables (most reliable = the one that has the shortest average delay) <br>\n",
    "f. What day of the week we had the highest average delay?<br>\n",
    "g. Which one had a higher average delay: flights that took off in the morning (6 am to 10 am), noon (11 am to 2 pm), afternoon (3 pm to 5pm), or evening (6 pm to 10 pm)?<br>\n",
    "h. Determine the number of airplanes used in these flights manufactured by BOEING, EMBRAER, and AURBUS separately. <br>\n",
    "<br>\n",
    "\n",
    "#### Question/Task 4\n",
    "Build a linear regression model to estimate the arrival delay of the flights given in \"fligts_test_data.xlsx\". Note that you have the full autorithy to decide what columns, what datasets (among the given datasets) to work with. In your report, please explain how you build the LR model and eloborate on its accuracy. \n",
    "\n",
    "#### Question/Task 5\n",
    "Build a logistic regression model to guess the 3 cancelled flights given in \"fligts_test_data.xlsx\". Again, you have the full autorithy to decide what columns, what datasets (among the given datasets) to work with. In your report, please explain how you build the LogReg model and eloborate on its accuracy."
   ]
  },
  {
   "cell_type": "code",
   "execution_count": null,
   "id": "27997a71",
   "metadata": {},
   "outputs": [],
   "source": [
    "#Question/Task 1\n",
    "#a. Calculate the total number of seats for all the planned flights for each destination separately?\n",
    "df_seats=flights2DCMDVA.merge(planes[['tailnum','seats']],on='tailnum', how='left')"
   ]
  },
  {
   "cell_type": "code",
   "execution_count": null,
   "id": "679847a7",
   "metadata": {},
   "outputs": [],
   "source": [
    "df_seats"
   ]
  },
  {
   "cell_type": "code",
   "execution_count": null,
   "id": "3af0e460",
   "metadata": {},
   "outputs": [],
   "source": [
    "df_seats_high=df_seats.groupby('dest')['seats'].sum().reset_index()\n",
    "df_seats_high"
   ]
  },
  {
   "cell_type": "code",
   "execution_count": null,
   "id": "bc0c1d0b",
   "metadata": {},
   "outputs": [],
   "source": [
    "#b.What is the day of the year with the highest number of flights?\n",
    "cols=[\"year\",\"month\",\"day\"]\n",
    "df_seats['date'] = df_seats[cols].apply(lambda x: '-'.join(x.values.astype(str)), axis=\"columns\")"
   ]
  },
  {
   "cell_type": "code",
   "execution_count": null,
   "id": "70a93966",
   "metadata": {},
   "outputs": [],
   "source": [
    "df_day_high=df_seats['date'].value_counts().rename_axis('Date').reset_index(name='No.of.Flights')\n",
    "df_day_high"
   ]
  },
  {
   "cell_type": "markdown",
   "id": "cd330f23",
   "metadata": {},
   "source": [
    "So,here 17th January 2013,11th January 2013, has the highest number of flights with count of 61."
   ]
  },
  {
   "cell_type": "code",
   "execution_count": null,
   "id": "0303179f",
   "metadata": {},
   "outputs": [],
   "source": [
    "#c. What is the day of the year with the highest number of seats available on that day?\n",
    "df_day_seats=df_seats.groupby('date')['seats'].sum().reset_index()\n",
    "df_day_seats.sort_values(by=['seats'],ascending=False)"
   ]
  },
  {
   "cell_type": "markdown",
   "id": "73eb4ae1",
   "metadata": {},
   "source": [
    "So,here 28th February 2013 has the highest number of seats with the count of 5379."
   ]
  },
  {
   "cell_type": "code",
   "execution_count": null,
   "id": "20802bb6",
   "metadata": {},
   "outputs": [],
   "source": [
    "#Question/Task 2\n",
    "#a. What day of the year most cancellations happened?\n",
    "df_seats.columns"
   ]
  },
  {
   "cell_type": "code",
   "execution_count": null,
   "id": "f2cb5195",
   "metadata": {},
   "outputs": [],
   "source": [
    "cancel = df_seats['dep_time'].isnull() & df_seats['dep_delay'].isnull() & df_seats['arr_time'].isnull() & df_seats['arr_delay'].isnull() & df_seats['air_time'].isnull() & df_seats['hour'].isnull() & df_seats['minute'].isnull()\n",
    "cancel"
   ]
  },
  {
   "cell_type": "code",
   "execution_count": null,
   "id": "fb0b6cfb",
   "metadata": {
    "scrolled": true
   },
   "outputs": [],
   "source": [
    "df_cancellations=df_seats[cancel]\n",
    "df_cancellations"
   ]
  },
  {
   "cell_type": "code",
   "execution_count": null,
   "id": "701ad991",
   "metadata": {
    "scrolled": true
   },
   "outputs": [],
   "source": [
    "df_cancellations_count=df_cancellations['date'].value_counts().rename_axis('Date').reset_index(name='No.of.Cancellations')\n",
    "df_cancellations_count"
   ]
  },
  {
   "cell_type": "markdown",
   "id": "47db474c",
   "metadata": {},
   "source": [
    "On 6th March 2013,most of the of flights got cancelled with count of 46."
   ]
  },
  {
   "cell_type": "code",
   "execution_count": null,
   "id": "affed5b0",
   "metadata": {},
   "outputs": [],
   "source": [
    "#b. Is there any relationship between the weather datasets and cancellations? \n",
    "#If yes, describe it and justify with a statistical model (hypothesis testing).\n"
   ]
  },
  {
   "cell_type": "code",
   "execution_count": null,
   "id": "139538c4",
   "metadata": {},
   "outputs": [],
   "source": [
    "#c. Is there any relationship between the Federal Holiday Schedule and cancellations? \n",
    "#If yes, describe it and justify with a statistical model (hypothesis testing)."
   ]
  },
  {
   "cell_type": "code",
   "execution_count": null,
   "id": "83cff907",
   "metadata": {},
   "outputs": [],
   "source": [
    "#d. What is the total number of seats for the cancelled flights? \n",
    "#If we assume the average flight price of $50, what is the total economis loss?\n",
    "\n",
    "print(f\"Total number of seats for the cancelled flights: {df_cancellations['seats'].sum()}\")"
   ]
  },
  {
   "cell_type": "code",
   "execution_count": null,
   "id": "47d2fbfe",
   "metadata": {},
   "outputs": [],
   "source": [
    "print(f\" Total Economic Loss is: {df_cancellations['seats'].sum()*50}\")"
   ]
  },
  {
   "cell_type": "code",
   "execution_count": null,
   "id": "51be45f7",
   "metadata": {},
   "outputs": [],
   "source": [
    "#e. Determine the ratio of cancelled flights/planned flights for each airline company, list it,\n",
    "#and determine the most and least reliable airline company (most reliable = the one that has the\n",
    "#smallest ratio of cancelled/planned)\n",
    "\n",
    "df_planned=df_seats.drop(df_seats[cancel].index)"
   ]
  },
  {
   "cell_type": "code",
   "execution_count": null,
   "id": "29634506",
   "metadata": {},
   "outputs": [],
   "source": [
    "df_planned"
   ]
  },
  {
   "cell_type": "code",
   "execution_count": null,
   "id": "22e642e5",
   "metadata": {},
   "outputs": [],
   "source": [
    "d1 = df_planned['carrier'].value_counts().to_dict()\n",
    "d2 = df_cancellations['carrier'].value_counts().to_dict()"
   ]
  },
  {
   "cell_type": "code",
   "execution_count": null,
   "id": "eb57e167",
   "metadata": {},
   "outputs": [],
   "source": [
    "for i in d1:\n",
    "    if i in d2:\n",
    "        print(f\"Ratio of cancelled/planned flights for {i} is {d2[i]/d1[i]}\")\n",
    "    else:\n",
    "        print(f\"Ratio of cancelled/planned flights for {i} is {0/d1[i]}\")"
   ]
  },
  {
   "cell_type": "code",
   "execution_count": null,
   "id": "c25283b4",
   "metadata": {},
   "outputs": [],
   "source": [
    "l1=df_planned['carrier'].value_counts().to_list()\n",
    "l1"
   ]
  },
  {
   "cell_type": "code",
   "execution_count": null,
   "id": "3aadd338",
   "metadata": {},
   "outputs": [],
   "source": [
    "l2=df_cancellations['carrier'].value_counts().to_list()\n",
    "l2"
   ]
  },
  {
   "cell_type": "markdown",
   "id": "b302ab6f",
   "metadata": {},
   "source": [
    "So,here the most reliable airline company is UA,DL,OO as they have 0 cancellations\n",
    "and the least reliable airline company is YV as it has the cancellation rate of 11.4%"
   ]
  },
  {
   "cell_type": "code",
   "execution_count": null,
   "id": "6a60fa60",
   "metadata": {},
   "outputs": [],
   "source": [
    "#Question/Task 3\n",
    "#a. Calculate the average arrival delay for all the flights that took place in the same day and plot it \n",
    "#(x = 1:365, y = daily average delay). On the same plot, please mark the Federal Holidays from the federal-holidays-2013.xlsx\n",
    "#dataset.\n",
    "\n",
    "df_avg_delay=df_planned.groupby('date')['arr_delay'].mean().reset_index()\n",
    "df_avg_delay['date']= pd.to_datetime(df_avg_delay['date'])\n",
    "df_avg_delay"
   ]
  },
  {
   "cell_type": "code",
   "execution_count": null,
   "id": "2c4f47a2",
   "metadata": {},
   "outputs": [],
   "source": [
    "import matplotlib.pyplot as plt"
   ]
  },
  {
   "cell_type": "code",
   "execution_count": null,
   "id": "fc84c1eb",
   "metadata": {},
   "outputs": [],
   "source": [
    "df_avg_delay= df_avg_delay.sort_values('date', ascending=True)\n",
    "df_avg_delay"
   ]
  },
  {
   "cell_type": "code",
   "execution_count": null,
   "id": "ea08d80b",
   "metadata": {},
   "outputs": [],
   "source": [
    "dict_day={'2013-01-01':'New Year Day','2013-01-21':'Martin Luther King Day','2013-02-18':'Presidents Day','2013-05-27':'Memorial Day','2013-07-04':'Independence Day','2013-09-02':'Labor Day','2013-10-14':'Columbus Day','2013-11-11':'Veterans Day','2013-11-28':'Thanksgiving Day','2013-12-25':'Christmas Day'}"
   ]
  },
  {
   "cell_type": "code",
   "execution_count": null,
   "id": "59da25ea",
   "metadata": {},
   "outputs": [],
   "source": [
    "labels=df_avg_delay['date'].astype(str).to_frame()\n",
    "l1=labels.replace({'date': dict_day})"
   ]
  },
  {
   "cell_type": "code",
   "execution_count": null,
   "id": "a096ad18",
   "metadata": {},
   "outputs": [],
   "source": [
    "plt.subplot(4,1,1)\n",
    "plt.plot(l1['date'].iloc[0:99],df_avg_delay['arr_delay'].iloc[0:99])\n",
    "plt.xticks(l1['date'].iloc[0:99],rotation=90,fontsize=10)\n",
    "plt.rcParams[\"figure.figsize\"] = (20,10)\n",
    "\n",
    "plt.subplot(4,1,2)\n",
    "plt.plot(l1['date'].iloc[100:201],df_avg_delay['arr_delay'].iloc[100:201])\n",
    "plt.xticks(l1['date'].iloc[100:201],rotation=90,fontsize=10)\n",
    "plt.rcParams[\"figure.figsize\"] = (20,10)\n",
    "\n",
    "plt.subplot(4,1,3)\n",
    "plt.plot(l1['date'].iloc[202:301],df_avg_delay['arr_delay'].iloc[202:301])\n",
    "plt.xticks(l1['date'].iloc[202:301],rotation=90,fontsize=10)\n",
    "plt.rcParams[\"figure.figsize\"] = (20,10)\n",
    "\n",
    "plt.subplot(4,1,4)\n",
    "plt.plot(l1['date'].iloc[302:],df_avg_delay['arr_delay'].iloc[302:])\n",
    "plt.xticks(l1['date'].iloc[302:],rotation=90,fontsize=10)\n",
    "\n",
    "plt.subplots_adjust(hspace=5)\n",
    "plt.rcParams[\"figure.figsize\"] = (20,10)"
   ]
  },
  {
   "cell_type": "code",
   "execution_count": null,
   "id": "d4d7e0d9",
   "metadata": {},
   "outputs": [],
   "source": [
    "#b. Is there a correlation between the weather datasets and daily average arrival delay? \n",
    "#Justify your answer with a statistical model (hypothesis testing)"
   ]
  },
  {
   "cell_type": "code",
   "execution_count": null,
   "id": "ed42de34",
   "metadata": {},
   "outputs": [],
   "source": [
    "#c. Is there a correlation between the Federal Holiday Schedule and daily average arrival delay?"
   ]
  },
  {
   "cell_type": "code",
   "execution_count": null,
   "id": "a5e0682e",
   "metadata": {},
   "outputs": [],
   "source": [
    "#d. Calculate the average arrival delay for all the flights for each arrival airport (e.g. IAD, DCA, and BWI) \n",
    "#and determine most and least reliables (most reliable = the one that has the shortest average delay)\n",
    "df_planned.groupby('dest')['arr_delay'].mean().reset_index()"
   ]
  },
  {
   "cell_type": "markdown",
   "id": "589160e0",
   "metadata": {},
   "source": [
    "Here, \"IAD\"=13.866071 is least reliable, \"DCA\"=9.069106 is most reliable"
   ]
  },
  {
   "cell_type": "code",
   "execution_count": null,
   "id": "ff123ac7",
   "metadata": {},
   "outputs": [],
   "source": [
    "#e. Calculate the average arrival delay for all the airlines and determine most and least reliables \n",
    "#(most reliable = the one that has the shortest average delay)"
   ]
  },
  {
   "cell_type": "code",
   "execution_count": null,
   "id": "af509042",
   "metadata": {},
   "outputs": [],
   "source": [
    "df_planned.groupby('carrier')['arr_delay'].mean().reset_index()"
   ]
  },
  {
   "cell_type": "markdown",
   "id": "d95d7856",
   "metadata": {},
   "source": [
    "Here, \"YV\" : 18.917266 is least reliable, \"Delta Air lines\"- DA: -8.0 is most reliable"
   ]
  },
  {
   "cell_type": "code",
   "execution_count": null,
   "id": "ba3f4160",
   "metadata": {},
   "outputs": [],
   "source": [
    "#f. What day of the week we had the highest average delay?\n",
    "df_planned['date']= pd.to_datetime(df_seats['date'])"
   ]
  },
  {
   "cell_type": "code",
   "execution_count": null,
   "id": "5f761e56",
   "metadata": {},
   "outputs": [],
   "source": [
    "df_planned['Day of week']=df_planned['date'].dt.day_name()"
   ]
  },
  {
   "cell_type": "code",
   "execution_count": null,
   "id": "ccec69ab",
   "metadata": {},
   "outputs": [],
   "source": [
    "df_planned.groupby('Day of week')['arr_delay'].mean().reset_index()"
   ]
  },
  {
   "cell_type": "markdown",
   "id": "106ae9f3",
   "metadata": {},
   "source": [
    "\"Monday\" has the highest average delay of 15.433646"
   ]
  },
  {
   "cell_type": "code",
   "execution_count": null,
   "id": "a4479c1b",
   "metadata": {},
   "outputs": [],
   "source": [
    "#g. Which one had a higher average delay: flights that took off in the morning (6 am to 10 am), \n",
    "#noon (11 am to 2 pm), afternoon (3 pm to 5pm), or evening (6 pm to 10 pm)?\n",
    "\n",
    "import numpy as np\n",
    "df_planned['dep_time'] = df_planned['dep_time'].values.astype(np.int64)"
   ]
  },
  {
   "cell_type": "code",
   "execution_count": null,
   "id": "6058d4eb",
   "metadata": {},
   "outputs": [],
   "source": [
    "time_groups=pd.cut(df_planned['dep_time'],ordered=False,bins=[600, 1000, 1100,1400,1500,1700,1800,2200],labels=['morning','','noon','','afternoon','','evening'])"
   ]
  },
  {
   "cell_type": "code",
   "execution_count": null,
   "id": "1bd12d6b",
   "metadata": {},
   "outputs": [],
   "source": [
    "df_day_timings=df_planned.groupby(time_groups)['arr_delay'].mean().reset_index()\n",
    "df_day_timings.iloc[1:]"
   ]
  },
  {
   "cell_type": "markdown",
   "id": "4ae0e663",
   "metadata": {},
   "source": [
    "Flights that took off in afternoon has the highest average delay."
   ]
  },
  {
   "cell_type": "code",
   "execution_count": null,
   "id": "851d6cc3",
   "metadata": {},
   "outputs": [],
   "source": [
    "#h. Determine the number of airplanes used in these flights manufactured by BOEING, EMBRAER, and AURBUS separately.\n",
    "df_manufacturer=flights2DCMDVA.merge(planes[['tailnum','manufacturer']],on='tailnum', how='left')"
   ]
  },
  {
   "cell_type": "code",
   "execution_count": null,
   "id": "7187e3a6",
   "metadata": {},
   "outputs": [],
   "source": [
    "(df_manufacturer['manufacturer']=='BOEING').sum()"
   ]
  },
  {
   "cell_type": "code",
   "execution_count": null,
   "id": "d9bfbbc2",
   "metadata": {},
   "outputs": [],
   "source": [
    "(df_manufacturer['manufacturer']=='EMBRAER').sum()"
   ]
  },
  {
   "cell_type": "code",
   "execution_count": null,
   "id": "1a4fe143",
   "metadata": {},
   "outputs": [],
   "source": [
    "(df_manufacturer['manufacturer']=='AURBUS').sum()"
   ]
  },
  {
   "cell_type": "code",
   "execution_count": null,
   "id": "ea675087",
   "metadata": {},
   "outputs": [],
   "source": [
    "#Question/Task 4\n",
    "#Build a linear regression model to estimate the arrival delay of the flights given in\n",
    "#\"fligts_test_data.xlsx\". Note that you have the full autorithy to decide what columns, \n",
    "#what datasets (among the given datasets) to work with. In your report, please explain \n",
    "#how you build the LR model and eloborate on its accuracy."
   ]
  },
  {
   "cell_type": "code",
   "execution_count": null,
   "id": "6009e229",
   "metadata": {},
   "outputs": [],
   "source": [
    "flights_test_data = pd.read_excel(r\"flights-test-data.xlsx\")\n",
    "flights_test_data.head()"
   ]
  },
  {
   "cell_type": "code",
   "execution_count": null,
   "id": "2a213b02",
   "metadata": {},
   "outputs": [],
   "source": [
    "from sklearn.preprocessing import LabelEncoder\n",
    "from sklearn.linear_model import LinearRegression\n",
    "from sklearn.model_selection import train_test_split\n",
    "le= LabelEncoder()"
   ]
  },
  {
   "cell_type": "code",
   "execution_count": null,
   "id": "69f4d0e4",
   "metadata": {},
   "outputs": [],
   "source": [
    "X=df_planned[['year','month','day','carrier','origin','dest','distance']]\n",
    "y=df_planned[['arr_delay']]"
   ]
  },
  {
   "cell_type": "code",
   "execution_count": null,
   "id": "34f25a1c",
   "metadata": {},
   "outputs": [],
   "source": [
    "categorical_col=['carrier','origin','dest']\n",
    "X[categorical_col] = X[categorical_col].apply(le.fit_transform)\n",
    "y=y.fillna(y.mean())"
   ]
  },
  {
   "cell_type": "code",
   "execution_count": null,
   "id": "e6cd81e7",
   "metadata": {},
   "outputs": [],
   "source": [
    "X"
   ]
  },
  {
   "cell_type": "code",
   "execution_count": null,
   "id": "2fa29b80",
   "metadata": {},
   "outputs": [],
   "source": [
    "X_train, X_test, y_train, y_test = train_test_split(X, y, test_size=0.2, random_state=0)"
   ]
  },
  {
   "cell_type": "code",
   "execution_count": null,
   "id": "071ba59c",
   "metadata": {},
   "outputs": [],
   "source": [
    "regressor = LinearRegression()\n",
    "regressor.fit(X_train, y_train)"
   ]
  },
  {
   "cell_type": "code",
   "execution_count": null,
   "id": "3f0cb997",
   "metadata": {},
   "outputs": [],
   "source": [
    "flights_test_data[categorical_col]=flights_test_data[categorical_col].apply(le.fit_transform)"
   ]
  },
  {
   "cell_type": "code",
   "execution_count": null,
   "id": "abe476c6",
   "metadata": {},
   "outputs": [],
   "source": [
    "y_pred = regressor.predict(flights_test_data)"
   ]
  },
  {
   "cell_type": "code",
   "execution_count": null,
   "id": "4053c083",
   "metadata": {},
   "outputs": [],
   "source": [
    "flights_test_data['arr_delay']=y_pred"
   ]
  },
  {
   "cell_type": "code",
   "execution_count": null,
   "id": "a7ab2968",
   "metadata": {},
   "outputs": [],
   "source": [
    "flights_test_data"
   ]
  },
  {
   "cell_type": "code",
   "execution_count": null,
   "id": "44633a2d",
   "metadata": {},
   "outputs": [],
   "source": [
    "from sklearn import metrics\n",
    "print(f\"Root Mean Squared Error:{(np.sqrt(metrics.mean_squared_error(y_test.sample(20), y_pred)))/100}\")"
   ]
  },
  {
   "cell_type": "markdown",
   "id": "260cfab3",
   "metadata": {},
   "source": [
    "RMSE values between 0.2 and 0.5 shows that the model can relatively predict the data accurately."
   ]
  },
  {
   "cell_type": "code",
   "execution_count": null,
   "id": "28682a40",
   "metadata": {},
   "outputs": [],
   "source": [
    "#sns.pairplot(flights, x_vars=['dep_time', 'dep_delay','arr_time'],y_vars='arr_delay', height=4, aspect=1, kind='scatter')\n",
    "#plt.show()"
   ]
  },
  {
   "cell_type": "code",
   "execution_count": null,
   "id": "af7b70cc",
   "metadata": {},
   "outputs": [],
   "source": [
    "sns.heatmap(flights.corr(), cmap=\"YlGnBu\", annot = True)\n",
    "plt.show()"
   ]
  },
  {
   "cell_type": "code",
   "execution_count": null,
   "id": "accbf469",
   "metadata": {},
   "outputs": [],
   "source": [
    "#Question/Task 5\n",
    "#Build a logistic regression model to guess the 3 cancelled flights given in \"fligts_test_data.xlsx\".\n",
    "#Again, you have the full autorithy to decide what columns, what datasets (among the given datasets) to work with. \n",
    "#In your report, please explain how you build the LogReg model and eloborate on its accuracy."
   ]
  },
  {
   "cell_type": "code",
   "execution_count": null,
   "id": "6d0b4b83",
   "metadata": {},
   "outputs": [],
   "source": [
    "df_cancellations"
   ]
  },
  {
   "cell_type": "code",
   "execution_count": null,
   "id": "e442904f",
   "metadata": {},
   "outputs": [],
   "source": [
    "from sklearn.linear_model import LogisticRegression"
   ]
  },
  {
   "cell_type": "code",
   "execution_count": null,
   "id": "d56f19d1",
   "metadata": {},
   "outputs": [],
   "source": [
    "df_flight_test_guess= pd.read_excel(r\"flights-test-data.xlsx\")"
   ]
  },
  {
   "cell_type": "code",
   "execution_count": null,
   "id": "266340a1",
   "metadata": {},
   "outputs": [],
   "source": [
    "X_CAN=df_cancellations[['year','month','day','carrier','origin','dest','distance']]\n",
    "y_CAN=df_cancellations[['flight']]"
   ]
  },
  {
   "cell_type": "code",
   "execution_count": null,
   "id": "6454843a",
   "metadata": {},
   "outputs": [],
   "source": [
    "categorical_col=['carrier','origin','dest']\n",
    "X_CAN[categorical_col] = X_CAN[categorical_col].apply(le.fit_transform)\n",
    "y_CAN[['flight']] = y_CAN[['flight']].apply(le.fit_transform)"
   ]
  },
  {
   "cell_type": "code",
   "execution_count": null,
   "id": "645fdec8",
   "metadata": {},
   "outputs": [],
   "source": [
    "X_train_1, X_test_1, y_train_1, y_test_1 = train_test_split(X_CAN, y_CAN, test_size=0.2, random_state=0)"
   ]
  },
  {
   "cell_type": "code",
   "execution_count": null,
   "id": "4ed91d5d",
   "metadata": {},
   "outputs": [],
   "source": [
    "logregressor = LogisticRegression()\n",
    "logregressor.fit(X_train_1, y_train_1)"
   ]
  },
  {
   "cell_type": "code",
   "execution_count": null,
   "id": "9217919f",
   "metadata": {},
   "outputs": [],
   "source": [
    "df_flight_test_guess[categorical_col]=df_flight_test_guess[categorical_col].apply(le.fit_transform)"
   ]
  },
  {
   "cell_type": "code",
   "execution_count": null,
   "id": "05e3bc83",
   "metadata": {},
   "outputs": [],
   "source": [
    "y_pred = logregressor.predict(df_flight_test_guess)"
   ]
  },
  {
   "cell_type": "code",
   "execution_count": null,
   "id": "d73b955e",
   "metadata": {},
   "outputs": [],
   "source": [
    "df_flight_test_guess['flight']=y_pred"
   ]
  },
  {
   "cell_type": "code",
   "execution_count": null,
   "id": "5f6260ab",
   "metadata": {},
   "outputs": [],
   "source": [
    "df_flight_test_guess.head(3)"
   ]
  },
  {
   "cell_type": "code",
   "execution_count": null,
   "id": "4518a5b7",
   "metadata": {},
   "outputs": [],
   "source": [
    "from sklearn.metrics import accuracy_score\n",
    "score = accuracy_score(y_test_1.sample(20).to_numpy(),y_pred)"
   ]
  },
  {
   "cell_type": "code",
   "execution_count": null,
   "id": "861af061",
   "metadata": {},
   "outputs": [],
   "source": [
    "print(f\"Accuracy is {int(score*100)}%\")"
   ]
  },
  {
   "cell_type": "markdown",
   "id": "62447322",
   "metadata": {},
   "source": [
    "Accuracy of this prediction is very low."
   ]
  },
  {
   "cell_type": "code",
   "execution_count": null,
   "id": "81e26624",
   "metadata": {},
   "outputs": [],
   "source": [
    "weatherNYdaily"
   ]
  },
  {
   "cell_type": "code",
   "execution_count": null,
   "id": "00f1e1ab",
   "metadata": {},
   "outputs": [],
   "source": [
    "weatherNYhourly"
   ]
  },
  {
   "cell_type": "code",
   "execution_count": null,
   "id": "a9a47119",
   "metadata": {
    "scrolled": true
   },
   "outputs": [],
   "source": [
    "df_cancellations"
   ]
  },
  {
   "cell_type": "code",
   "execution_count": null,
   "id": "e8d11a8c",
   "metadata": {},
   "outputs": [],
   "source": [
    "df_rel=df_cancellations.merge(weatherNYhourly,on='origin', how='left')"
   ]
  },
  {
   "cell_type": "code",
   "execution_count": null,
   "id": "02e636ac",
   "metadata": {},
   "outputs": [],
   "source": [
    "df_rel.corr()"
   ]
  }
 ],
 "metadata": {
  "colab": {
   "collapsed_sections": [],
   "name": "Project2.ipynb",
   "provenance": [
    {
     "file_id": "https://github.com/simsekergun/DATA601/blob/main/Project2/DATA601_Project2.ipynb",
     "timestamp": 1652817509983
    }
   ]
  },
  "kernelspec": {
   "display_name": "Python 3 (ipykernel)",
   "language": "python",
   "name": "python3"
  },
  "language_info": {
   "codemirror_mode": {
    "name": "ipython",
    "version": 3
   },
   "file_extension": ".py",
   "mimetype": "text/x-python",
   "name": "python",
   "nbconvert_exporter": "python",
   "pygments_lexer": "ipython3",
   "version": "3.9.7"
  }
 },
 "nbformat": 4,
 "nbformat_minor": 5
}
