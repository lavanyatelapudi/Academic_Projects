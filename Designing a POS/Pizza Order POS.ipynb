{
  "nbformat": 4,
  "nbformat_minor": 0,
  "metadata": {
    "colab": {
      "name": "QI57017_Final_project.ipynb",
      "provenance": [],
      "collapsed_sections": []
    },
    "kernelspec": {
      "name": "python3",
      "display_name": "Python 3"
    },
    "language_info": {
      "name": "python"
    }
  },
  "cells": [
    {
      "cell_type": "code",
      "metadata": {
        "colab": {
          "base_uri": "https://localhost:8080/"
        },
        "id": "RcjjVJAcTSiv",
        "outputId": "16530daf-b0bf-4909-c6bb-137368f0f2dd"
      },
      "source": [
        "!pip install names\n",
        "import random\n",
        "import names#Used names module to generate random names for Customer and Employee classes\n",
        "from random import randint\n",
        "from datetime import datetime\n",
        "from datetime import timedelta\n",
        "import datetime"
      ],
      "execution_count": null,
      "outputs": [
        {
          "output_type": "stream",
          "text": [
            "Requirement already satisfied: names in /usr/local/lib/python3.7/dist-packages (0.3.0)\n"
          ],
          "name": "stdout"
        }
      ]
    },
    {
      "cell_type": "markdown",
      "metadata": {
        "id": "715fxEHd2R40"
      },
      "source": [
        "###Class PizzaOrder:\n",
        "\n",
        "* Gets user inputs and makes an order\n",
        "* Adds pizza to order\n",
        "* Drops pizza from order\n",
        "* Makes bill and apply promocodes\n",
        "* Gets order status\n",
        "* Get a list of all orders.\n",
        "\n"
      ]
    },
    {
      "cell_type": "code",
      "metadata": {
        "id": "k6u88ljlA2l0"
      },
      "source": [
        "all_orders =[]\n",
        "class PizzaOrder(object):\n",
        "    def __init__(self):\n",
        "        self.pricing_pizzas = {'Cheese Burst Pizza':[2.74,'$2.74'], 'Pepperoni Pizza':[3.0,'$3.0'], 'Chicken Pizza':[4.39,'$4.39'],'BBQ Chicken':[6.57,'$6.57'],'Teriyaki Chicken Pizza':[8.75,'$8.75']}\n",
        "        self.pricing_toppings = {'Pepperoni':[1.57,'$1.57'] ,'Mushroom': [2.3,'$2.3'],'Cheese': [2.0,'$2.0'],'Pepper':[1.2,'$1.2'],'Olives':[1.5,'$1.5'],'Bacon':[1.58,'$1.58']}\n",
        "        self.pricing_crust = {'Thick crust' : [3.0,'$3.0'],'Thin crust': [2.0,'$2.0']}\n",
        "        self.stores = {\"Store1\":[\"21227\",'+1 301-401-5010'],\"Store2\":[\"21228\",'+1 301-401-5011'],\"Store3\":[\"21229\",'+1 301-401-5013']}\n",
        "        self.order_list = []\n",
        "        self.discount= [\"10%_off\",\"20%_off\",\"30%_off\"]\n",
        "        self.pizza_total=0\n",
        "        self.toppings_total=0\n",
        "        self.crusts_total=0\n",
        "        self.order_total_pizza=[]\n",
        "        self.order_total_crusts=[]\n",
        "        self.order_total_tops=[]\n",
        "\n",
        "    def order(self):\n",
        "      if len(self.order_total_pizza)==0:\n",
        "        print('Welcome to our store!!')\n",
        "        print('\\nSeems like your bag is empty.Want to add a pizza??')\n",
        "        self.add_pizza()\n",
        "        self.order()\n",
        "      else:\n",
        "        print(\"\\nFor adding more pizzaz to your bag, Press 1\\nFor dropping a pizza, Press 2\\nIf you are done ordering,Press 3 \")\n",
        "        self.choice = input(\"Please give your choice : \")\n",
        "        if self.choice == '1':\n",
        "          self.add_pizza()\n",
        "          self.order()\n",
        "        elif self.choice == '2':\n",
        "          self.drop_pizza()\n",
        "          self.order()\n",
        "        elif self.choice == '3':\n",
        "          store_info=Store()\n",
        "          self.store_name = store_info.store_details()\n",
        "        else:\n",
        "          print(\"Please select a valid option\")\n",
        "          self.order()\n",
        "\n",
        "    def add_pizza(self):\n",
        "      try:\n",
        "        self.order_total_pizza=[]\n",
        "        self.order_total_tops=[]\n",
        "        self.order_total_crusts=[]\n",
        "        self.no_of_pizzas = int(input(\"\\nNo of Pizzas you want? : \"))\n",
        "        if self.no_of_pizzas > 0:\n",
        "          print('\\nPizzas Available Now :')\n",
        "          for j in self.pricing_pizzas:\n",
        "            print(f'{j} : {self.pricing_pizzas[j][1]}')\n",
        "          for i in range(self.no_of_pizzas):\n",
        "            self.pick_pizza=int(input(\"\\nChoose your Pizza from list available by pressing 1/2/3... : \"))\n",
        "            if self.pick_pizza <= len(self.pricing_pizzas):\n",
        "              print(f'\\nYou chose {list(self.pricing_pizzas.keys())[self.pick_pizza-1]}')\n",
        "              print(\"\\nChoose your pizza crust type\")          \n",
        "              pizza_instance=Pizza()\n",
        "              add_crust=pizza_instance.crust_add()\n",
        "              add_tops=pizza_instance.add_topping()\n",
        "              self.order_total_pizza.append(list(self.pricing_pizzas.keys())[self.pick_pizza-1])  \n",
        "              self.order_total_tops.append(add_tops)\n",
        "              self.order_total_crusts.append(add_crust)          \n",
        "            else:\n",
        "              print('Enter a valid choice : ')\n",
        "              self.add_pizza()\n",
        "        else:\n",
        "          print('\\nDo you want a pizza?')\n",
        "          self.add_pizza()\n",
        "      except ValueError as ve:\n",
        "        print('Enter a valid number')\n",
        "        self.add_pizza()\n",
        "           \n",
        "    def drop_pizza(self):\n",
        "        if len(self.order_total_pizza) == 0:\n",
        "            print(\"\\nPlease select a Pizza of your choice : \")\n",
        "            self.add_pizza()\n",
        "        else:\n",
        "            print(\"\\nI am repeating your order for you\") \n",
        "            for i in range(len(self.order_total_pizza)):\n",
        "              print(f'Item-{i+1} : {self.order_total_pizza[i]}')\n",
        "            print(\"\\nSelect a Pizza you wish to drop : \")\n",
        "            self.pizza_drop = int(input(\"Drop your Pizza by pressing 1/2/3...\"))\n",
        "            self.order_total_pizza.pop(self.pizza_drop-1)\n",
        "            self.order_total_tops.pop(self.pizza_drop-1)\n",
        "            self.order_total_crusts.pop(self.pizza_drop-1)\n",
        "\n",
        "    def order_amount(self):\n",
        "        for i in self.order_total_pizza:\n",
        "          price=round(self.pricing_pizzas[i][0],2)\n",
        "          self.pizza_total += price\n",
        "\n",
        "        self.order_total_tops = list(filter(None.__ne__, self.order_total_tops))\n",
        "        if len(self.order_total_tops)!=0:\n",
        "          for i in self.order_total_tops:\n",
        "              for j in range(len(i)):\n",
        "                price_1=round(self.pricing_toppings[i[j]][0],2)\n",
        "                self.toppings_total += price_1\n",
        "        elif len(self.order_total_tops)==0:\n",
        "          tops_zero_instance=Pizza()\n",
        "          topping_zero=tops_zero_instance.topping_zero\n",
        "          self.toppings_total += topping_zero\n",
        "\n",
        "        for i in self.order_total_crusts:\n",
        "          price_2=round(self.pricing_crust[i[0]][0],2)\n",
        "          self.crusts_total += price_2\n",
        "\n",
        "        self.amount= self.pizza_total+self.toppings_total+self.crusts_total\n",
        "        self.pizza_total=0\n",
        "        self.toppings_total=0\n",
        "        self.crusts_total=0\n",
        "        return self.amount\n",
        "\n",
        "    def get_order_status(self):\n",
        "        status_list=['ORDER_CREATED', 'ORDER_CANCELED','ORDER_READY', 'ORDER_ON_DELIVERY', 'ORDER_COMPLETE']\n",
        "        self.status=random.choice(status_list)\n",
        "        return self.status\n",
        "        \n",
        "    def promo_code(self):\n",
        "        print('\\nWant discount? Enter your code.Else enter \"No\"')\n",
        "        self.coupon=str(input(\"Enter your promo code : \"))\n",
        "        if self.coupon in self.discount:\n",
        "          for i in range(len(self.discount)):\n",
        "            if self.coupon==self.discount[i]:\n",
        "              print(\"Promocode applied\")\n",
        "              print(\"Total before discount\",round(self.amount,2))\n",
        "              self.amount-=self.amount*(int(self.discount[i][:2])/100)\n",
        "              print(\"Total after discount\",round(self.amount,2))\n",
        "            else:\n",
        "              continue\n",
        "        elif self.coupon == \"No\" or self.coupon == \"no\" :\n",
        "          print('No discount applied')\n",
        "          self.amount += 0\n",
        "        else:\n",
        "          print(\"Your promocode is invalid or expired.Try again!!\")\n",
        "          self.promo_code()\n",
        "\n",
        "    \n",
        "    def customer_information(self):\n",
        "        customer= Customer()\n",
        "        self.first_name= customer.first_name()\n",
        "        self.last_name = customer.last_name()\n",
        "        self.full_name = self.first_name + str(' ') + self.last_name\n",
        "        self.order_date = customer.order_date()\n",
        "        self.phone_number = customer.phone_number()\n",
        "         \n",
        "    def order_receipt(self):\n",
        "        print('\\nHere is your receipt : ')\n",
        "        print(f'\\nCustomer Name : {self.full_name}\\nCustomer Phone : {self.phone_number}\\nPizzas : {self.order_total_pizza}\\nCrust Type : {self.order_total_crusts}\\nToppings : {self.order_total_tops}\\nBill : ${round(self.amount,2)}\\nDate : {self.order_date}\\nOrder Status : {self.status}\\nLocation : {self.store_name},{self.stores[self.store_name][0]},Ph: {self.stores[self.store_name][1]}')\n",
        "        self.order_list = [self.full_name,self.order_total_pizza,round(self.amount,2),self.store_name,self.order_date,self.phone_number,self.status]       \n",
        "        all_orders.append(self.order_list)\n",
        "        self.all_orders = all_orders\n",
        "        self.order_total_pizza=[]\n",
        "\n",
        "    def get_all_pizza_orders(self):\n",
        "      return self.all_orders"
      ],
      "execution_count": null,
      "outputs": []
    },
    {
      "cell_type": "markdown",
      "metadata": {
        "id": "Fz9Nzofo3kIz"
      },
      "source": [
        "###Class Pizza:\n",
        "* Can add toppings to pizza\n",
        "* Can drop toppings to pizza\n",
        "* Asks customer to specify crust type."
      ]
    },
    {
      "cell_type": "code",
      "metadata": {
        "id": "fQjOyCmK3FAh"
      },
      "source": [
        "class Pizza(object):\n",
        "    def __init__(self):\n",
        "        self.pricing_toppings = {'Pepperoni':[1.57,'$1.57'] ,'Mushroom': [2.3,'$2.3'],'Cheese': [2.0,'$2.0'],'Pepper':[1.2,'$1.2'],'Olives':[1.5,'$1.5'],'Bacon':[1.58,'$1.58']}\n",
        "        self.pricing_crust = {'Thick crust' : [3.0,'$3.0'],'Thin crust': [2.0,'$2.0']} \n",
        "        self.crusts = [] \n",
        "        self.order_total_tops=[]\n",
        "        self.topping_zero=0            \n",
        "            \n",
        "    def add_topping(self):\n",
        "      print('You want toppings? If yes, Press 1 else Press 2')\n",
        "      self.topping_opt=int(input('Want topping : '))\n",
        "      if self.topping_opt == 1:\n",
        "        print('\\nAvailable Toppings : ')\n",
        "        for i in self.pricing_toppings:\n",
        "          print(f'{i}:{self.pricing_toppings[i][1]}')\n",
        "        self.total_toppings_customer_want=int(input(\"\\nNo of toppings you wish to add? : \"))\n",
        "        for i in range (self.total_toppings_customer_want):\n",
        "            self.topping_customer_wants = int(input(\"\\nPress 1/2/3....to pick your topping : \"))\n",
        "            if self.topping_customer_wants in range(1,len(self.pricing_toppings)):\n",
        "                self.order_total_tops.append(list(self.pricing_toppings.keys())[self.topping_customer_wants-1])\n",
        "                topping_customer_wants = self.topping_customer_wants\n",
        "            else:\n",
        "                print(\"\\nPlease select from available choices!!\")\n",
        "                self.add_topping()\n",
        "        print(f'Final Toppings are {self.order_total_tops}')\n",
        "        self.final_ls = self.drop_topping()\n",
        "        return self.final_ls\n",
        "      elif self.topping_opt == 2:\n",
        "        self.drop_topping()\n",
        "\n",
        "\n",
        "    def drop_topping(self):\n",
        "      if len(self.order_total_tops) != 0:  \n",
        "        print(\"\\nPress 1 to confirm order or Press 2 to delete a topping\")\n",
        "        self.drop_option=str(input(\"\\nConfirm or Drop? : \"))\n",
        "        if self.drop_option == \"1\": \n",
        "            return self.order_total_tops\n",
        "        elif self.drop_option == \"2\": \n",
        "            self.total_toppings_customer_dont_want=int(input(\"\\nNo of Toppings you wish to drop? : \"))\n",
        "            if self.total_toppings_customer_dont_want == 0: \n",
        "                return self.order_total_tops\n",
        "            elif self.total_toppings_customer_dont_want < (len(self.order_total_tops)):  \n",
        "                for i in range(len(self.drop_option)):\n",
        "                    for j in range(len(self.order_total_tops)):\n",
        "                        print(f'Toppings you chose {j+1} - {self.order_total_tops[j]}')\n",
        "                    self.topping_drop = int(input(\"\\nPress 1/2/3...to drop your topping : \"))\n",
        "                    self.order_total_tops.pop(self.topping_drop-1)\n",
        "                print(f'\\nFinal toppings you chose {self.order_total_tops}')\n",
        "                return self.order_total_tops\n",
        "                self.drop_topping()\n",
        "            else:\n",
        "                print(\"\\nPlease select from available choice!\")\n",
        "                self.drop_topping()\n",
        "      elif len(self.order_total_tops) == 0:\n",
        "        self.topping_zero=0\n",
        "\n",
        "           \n",
        "    def crust_add(self):\n",
        "        print('\\nAvailable crusts : ')\n",
        "        for i in self.pricing_crust:\n",
        "          print(f'{i}:{self.pricing_crust[i][1]}')\n",
        "        print(\"\\nPress 1 for Thick Crust or Press 2 for Thin Crust\")\n",
        "        self.crust_type = (input(\"Enter your choice : \"))\n",
        "        if self.crust_type==\"1\" :\n",
        "            self.crust = \"Thick crust\"\n",
        "            self.crusts.append(self.crust)\n",
        "        elif self.crust_type==\"2\" :\n",
        "            self.crust = \"Thin crust\"\n",
        "            self.crusts.append(self.crust)\n",
        "        else:\n",
        "            print(\"Please select from available choices!!\")\n",
        "            self.crust_add()\n",
        "        return self.crusts"
      ],
      "execution_count": null,
      "outputs": []
    },
    {
      "cell_type": "markdown",
      "metadata": {
        "id": "bhPKD1vq1d0o"
      },
      "source": [
        "###Class Cutomer:\n",
        " * Has customer name\n",
        " * Has order date of customer\n",
        " * Has cutomer phone number\n",
        "\n",
        "\n",
        "\n",
        "\n",
        "\n",
        "\n"
      ]
    },
    {
      "cell_type": "code",
      "metadata": {
        "id": "dP0gk1JBrq9R"
      },
      "source": [
        "class Customer(object):\n",
        "    def first_name(self):\n",
        "        return names.get_first_name()\n",
        "    def last_name(self):\n",
        "        return names.get_last_name()\n",
        "    def order_date(self):\n",
        "      self.min_year=2020\n",
        "      self.max_year=datetime.now().year\n",
        "      self.start = datetime(self.min_year, 1, 1, 00, 00, 00)\n",
        "      self.years = self.max_year - self.min_year + 1\n",
        "      self.end = self.start + timedelta(days=365 * self.years)\n",
        "      return ((self.start + (self.end - self.start) * random.random()).strftime(\"%m/%d/%Y\"))\n",
        "    def phone_number(self):\n",
        "        return (str('+1')+str(randint(100,999))+str('-')+str(randint(100,999))+str('-')+str(randint(1000,9999)))"
      ],
      "execution_count": null,
      "outputs": []
    },
    {
      "cell_type": "markdown",
      "metadata": {
        "id": "9228YIPo1Ef9"
      },
      "source": [
        "###Class Employee:\n",
        "\n",
        "\n",
        "*   Has employee information\n",
        "*   Has list of all employees from all stores.\n",
        "\n",
        "\n",
        "\n"
      ]
    },
    {
      "cell_type": "code",
      "metadata": {
        "id": "AWgtpODKEHem"
      },
      "source": [
        "all_employees=[]\n",
        "class Employee(object):\n",
        "    def __init__(self):\n",
        "      self.all_employees=[]\n",
        "    def emp_first_name(self):\n",
        "      employee_first_name =  names.get_first_name()\n",
        "      return employee_first_name\n",
        "    def emp_last_name(self):\n",
        "      employee_last_name = names.get_last_name()\n",
        "      return employee_last_name\n",
        "    def add_emp_to_list(self):\n",
        "      all_employees.append(self.emp_first_name()+str(' ')+self.emp_last_name())\n",
        "      self.all_employees=all_employees\n",
        "      return self.all_employees"
      ],
      "execution_count": null,
      "outputs": []
    },
    {
      "cell_type": "markdown",
      "metadata": {
        "id": "F6Ln-8830V2F"
      },
      "source": [
        "### Class Store: \n",
        "* which has store details.\n",
        "* Also has methods to add or drop employee.\n",
        "* Get employees from all stores"
      ]
    },
    {
      "cell_type": "code",
      "metadata": {
        "id": "OHqiaejIyEiK"
      },
      "source": [
        "store_employees = [[],[],[]]\n",
        "class Store(object):\n",
        "    def __init__(self):\n",
        "        self.stores = {\"Store1\":[\"21227\",'+1 301-401-5010'],\"Store2\":[\"21228\",'+1 301-401-5011'],\"Store3\":[\"21229\",'+1 301-401-5013']}\n",
        "    def store_details(self):\n",
        "        self.store=str(input(\"\\nEnter your zipcode : \"))\n",
        "        for i in list(self.stores.values()):\n",
        "            if self.store == i[0]:\n",
        "              self.store_name = list(self.stores.keys())[list(self.stores.values()).index(i)]\n",
        "              self.store_code = self.store\n",
        "              print(f'Ordered from {list(self.stores.keys())[list(self.stores.values()).index(i)]}')\n",
        "              return self.store_name\n",
        "        else:\n",
        "            print(\"\\n\\nSorry, we are not yet open at your place.Please choose from available locations! \")\n",
        "            for i in self.stores:\n",
        "                print(f\"Location : {i},Zipcode : {self.stores[i][0]}, Phone : {self.stores[i][1]}\")\n",
        "            print('\\n\\nPlease choose from locations available')\n",
        "            self.store_details()\n",
        "\n",
        "\n",
        "    def staff(self):\n",
        "      try:\n",
        "        print(\"Press 1 : To Add an employee\\nPress 2 : To drop an employee\\nPress 3 : Finish\")\n",
        "        self.employee_maintain = int(input(\"\\nAdd / Drop/ Finish? : \"))\n",
        "\n",
        "        if self.employee_maintain == 1:\n",
        "          print(\"\\nStore Locations\")\n",
        "          for i in range(len(self.stores)):\n",
        "            print(f\"{i+1}-Location : {list(self.stores.keys())[i]}\")\n",
        "          self.store_select_add = int(input(\"\\nSpecify store : \"))   \n",
        "          for i in range(len(self.stores)):\n",
        "            if self.store_select_add == i+1:\n",
        "              print(f'Present Employees are : {store_employees[i]}')\n",
        "              e = Employee()\n",
        "              e_first_name = e.emp_first_name()\n",
        "              e_last_name = e.emp_last_name()\n",
        "              e_full_name = e_first_name + str(' ') + e_last_name\n",
        "              store_employees[i].append(e_full_name)\n",
        "              self.store_employees=store_employees\n",
        "              print(f'Updated employee list at Store{i+1} are : {store_employees[i]}') \n",
        "            else:\n",
        "              continue\n",
        "\n",
        "          self.further=str(input('\\nWant to add another? Press \"Yes\" / \"No\" : '))\n",
        "          if self.further == 'Yes' or self.further == 'yes' :\n",
        "            self.staff()\n",
        "          elif self.further == 'No' or self.further == 'no' :\n",
        "            print('You are done')\n",
        "\n",
        "        elif self.employee_maintain == 2:\n",
        "          print(\"\\nStore Locations\")  \n",
        "          for i in range(len(self.stores)):\n",
        "            print(f\"{i+1}-Location : {list(self.stores.keys())[i]}\")\n",
        "          self.store_select_drop = int(input(\"\\nSpecify store.Press 1/2/3 : \"))\n",
        "          if len(store_employees[self.store_select_drop-1])>0:\n",
        "            drop_employee_name=str(input('Enter employee full name in format \"abcde efghi\" : '))\n",
        "            print(f'{drop_employee_name} has been removed from pay-roll')\n",
        "            for i in range(len(store_employees)):\n",
        "              if self.store_select_drop == i+1:\n",
        "                if drop_employee_name in store_employees[i]:\n",
        "                  store_employees[i].remove(drop_employee_name)\n",
        "                  self.store_employees=store_employees\n",
        "                  self.staff()\n",
        "                else:\n",
        "                  print(f'We cannot find this employee at Store{i+1}.Try at another location')\n",
        "                  self.staff()\n",
        "              else:\n",
        "                continue\n",
        "          else:\n",
        "            print('There are no employees at this store.Do you want to add an employee')\n",
        "            self.staff()\n",
        "\n",
        "        elif self.employee_maintain == 3 :\n",
        "          self.done=str(input('You want to add more employess? Press \"Yes\" / \"No\" : '))\n",
        "          if self.done == 'Yes':\n",
        "            self.staff()\n",
        "          else:\n",
        "            print('You are done')\n",
        "        else:\n",
        "          print('Incorrect input.Try again')\n",
        "          self.staff()\n",
        "\n",
        "      except ValueError as ve:\n",
        "        print('Invalid entry')\n",
        "        self.staff()\n",
        "\n",
        "      \n",
        "    def get_employee_list(self):\n",
        "      for i in range(len(self.store_employees)):\n",
        "        print(f'\\nStore-{i+1}')\n",
        "        for j in self.store_employees[i]:\n",
        "          print(j)"
      ],
      "execution_count": null,
      "outputs": []
    },
    {
      "cell_type": "markdown",
      "metadata": {
        "id": "71q0sNiz6QgM"
      },
      "source": [
        "###**Creating an instance for class PizzaOrder**"
      ]
    },
    {
      "cell_type": "code",
      "metadata": {
        "id": "Dpsqc8pjMZ7S"
      },
      "source": [
        "a=PizzaOrder()"
      ],
      "execution_count": null,
      "outputs": []
    },
    {
      "cell_type": "markdown",
      "metadata": {
        "id": "liShwscm4Yro"
      },
      "source": [
        "###Created 15 random orders using PizzaOrder using instance 'a'\n",
        "####You can see the last order below\n"
      ]
    },
    {
      "cell_type": "code",
      "metadata": {
        "id": "S4iQ-8RjMcd6",
        "colab": {
          "base_uri": "https://localhost:8080/"
        },
        "outputId": "ba6855b1-3fbd-4da8-8eb5-2b05a9451e54"
      },
      "source": [
        "a.order()\n",
        "a.order_amount()\n",
        "a.promo_code()\n",
        "a.customer_information()\n",
        "a.get_order_status()\n",
        "a.order_receipt()"
      ],
      "execution_count": null,
      "outputs": [
        {
          "output_type": "stream",
          "text": [
            "Welcome to our store!!\n",
            "\n",
            "Seems like your bag is empty.Want to add a pizza??\n",
            "\n",
            "No of Pizzas you want? : 3\n",
            "\n",
            "Pizzas Available Now :\n",
            "Cheese Burst Pizza : $2.74\n",
            "Pepperoni Pizza : $3.0\n",
            "Chicken Pizza : $4.39\n",
            "BBQ Chicken : $6.57\n",
            "Teriyaki Chicken Pizza : $8.75\n",
            "\n",
            "Choose your Pizza from list available by pressing 1/2/3... : 5\n",
            "\n",
            "You chose Teriyaki Chicken Pizza\n",
            "\n",
            "Choose your pizza crust type\n",
            "\n",
            "Available crusts : \n",
            "Thick crust:$3.0\n",
            "Thin crust:$2.0\n",
            "\n",
            "Press 1 for Thick Crust or Press 2 for Thin Crust\n",
            "Enter your choice : 1\n",
            "You want toppings? If yes, Press 1 else Press 2\n",
            "Want topping : 2\n",
            "\n",
            "Choose your Pizza from list available by pressing 1/2/3... : 2\n",
            "\n",
            "You chose Pepperoni Pizza\n",
            "\n",
            "Choose your pizza crust type\n",
            "\n",
            "Available crusts : \n",
            "Thick crust:$3.0\n",
            "Thin crust:$2.0\n",
            "\n",
            "Press 1 for Thick Crust or Press 2 for Thin Crust\n",
            "Enter your choice : 1\n",
            "You want toppings? If yes, Press 1 else Press 2\n",
            "Want topping : 1\n",
            "\n",
            "Available Toppings : \n",
            "Pepperoni:$1.57\n",
            "Mushroom:$2.3\n",
            "Cheese:$2.0\n",
            "Pepper:$1.2\n",
            "Olives:$1.5\n",
            "Bacon:$1.58\n",
            "\n",
            "No of toppings you wish to add? : 3\n",
            "\n",
            "Press 1/2/3....to pick your topping : 4\n",
            "\n",
            "Press 1/2/3....to pick your topping : 2\n",
            "\n",
            "Press 1/2/3....to pick your topping : 5\n",
            "Final Toppings are ['Pepper', 'Mushroom', 'Olives']\n",
            "\n",
            "Press 1 to confirm order or Press 2 to delete a topping\n",
            "\n",
            "Confirm or Drop? : 1\n",
            "\n",
            "Choose your Pizza from list available by pressing 1/2/3... : 4\n",
            "\n",
            "You chose BBQ Chicken\n",
            "\n",
            "Choose your pizza crust type\n",
            "\n",
            "Available crusts : \n",
            "Thick crust:$3.0\n",
            "Thin crust:$2.0\n",
            "\n",
            "Press 1 for Thick Crust or Press 2 for Thin Crust\n",
            "Enter your choice : 2\n",
            "You want toppings? If yes, Press 1 else Press 2\n",
            "Want topping : 1\n",
            "\n",
            "Available Toppings : \n",
            "Pepperoni:$1.57\n",
            "Mushroom:$2.3\n",
            "Cheese:$2.0\n",
            "Pepper:$1.2\n",
            "Olives:$1.5\n",
            "Bacon:$1.58\n",
            "\n",
            "No of toppings you wish to add? : 1\n",
            "\n",
            "Press 1/2/3....to pick your topping : 5\n",
            "Final Toppings are ['Olives']\n",
            "\n",
            "Press 1 to confirm order or Press 2 to delete a topping\n",
            "\n",
            "Confirm or Drop? : 1\n",
            "\n",
            "For adding more pizzaz to your bag, Press 1\n",
            "For dropping a pizza, Press 2\n",
            "If you are done ordering,Press 3 \n",
            "Please give your choice : 3\n",
            "\n",
            "Enter your zipcode : 21228\n",
            "Ordered from Store2\n",
            "\n",
            "Want discount? Enter your code.Else enter \"No\"\n",
            "Enter your promo code : 30%_off\n",
            "Promocode applied\n",
            "Total before discount 32.82\n",
            "Total after discount 22.97\n",
            "\n",
            "Here is your receipt : \n",
            "\n",
            "Customer Name : Aaron Rojas\n",
            "Customer Phone : +1605-327-2347\n",
            "Pizzas : ['Teriyaki Chicken Pizza', 'Pepperoni Pizza', 'BBQ Chicken']\n",
            "Crust Type : [['Thick crust'], ['Thick crust'], ['Thin crust']]\n",
            "Toppings : [['Pepper', 'Mushroom', 'Olives'], ['Olives']]\n",
            "Bill : $22.97\n",
            "Date : 01/15/2021\n",
            "Order Status : ORDER_COMPLETE\n",
            "Location : Store2,21228,Ph: +1 301-401-5011\n"
          ],
          "name": "stdout"
        }
      ]
    },
    {
      "cell_type": "markdown",
      "metadata": {
        "id": "w8DWbeGnz1ZQ"
      },
      "source": [
        "###Getting order list from PizzaOrder"
      ]
    },
    {
      "cell_type": "code",
      "metadata": {
        "id": "3jECdfxw5UrT",
        "colab": {
          "base_uri": "https://localhost:8080/"
        },
        "outputId": "da9a037d-b59d-4169-c97b-1114a1ec1681"
      },
      "source": [
        "orders=a.get_all_pizza_orders()\n",
        "len(orders)"
      ],
      "execution_count": null,
      "outputs": [
        {
          "output_type": "execute_result",
          "data": {
            "text/plain": [
              "15"
            ]
          },
          "metadata": {
            "tags": []
          },
          "execution_count": 34
        }
      ]
    },
    {
      "cell_type": "markdown",
      "metadata": {
        "id": "jepg7su56mqr"
      },
      "source": [
        "###**Creating an instance for  class Store**"
      ]
    },
    {
      "cell_type": "code",
      "metadata": {
        "id": "SH_bcLvs5kgQ"
      },
      "source": [
        "b=Store()"
      ],
      "execution_count": null,
      "outputs": []
    },
    {
      "cell_type": "markdown",
      "metadata": {
        "id": "2QMQl2Yi6Kxc"
      },
      "source": [
        "###Adding and dropping employees using instance 'b"
      ]
    },
    {
      "cell_type": "code",
      "metadata": {
        "colab": {
          "base_uri": "https://localhost:8080/"
        },
        "id": "2oHa6Ggi7ZCt",
        "outputId": "a1cb6a4c-1425-4336-944f-20565d83a40c"
      },
      "source": [
        "b.staff()"
      ],
      "execution_count": null,
      "outputs": [
        {
          "output_type": "stream",
          "text": [
            "Press 1 : To Add an employee\n",
            "Press 2 : To drop an employee\n",
            "Press 3 : Finish\n",
            "\n",
            "Add / Drop/ Finish? : 1\n",
            "\n",
            "Store Locations\n",
            "1-Location : Store1\n",
            "2-Location : Store2\n",
            "3-Location : Store3\n",
            "\n",
            "Specify store : 1\n",
            "Present Employees are : ['Juanita Bard']\n",
            "Updated employee list at Store1 are : ['Juanita Bard', 'Carolyn Jackson']\n",
            "\n",
            "Want to add another? Press \"Yes\" / \"No\" : yes\n",
            "Press 1 : To Add an employee\n",
            "Press 2 : To drop an employee\n",
            "Press 3 : Finish\n",
            "\n",
            "Add / Drop/ Finish? : 1\n",
            "\n",
            "Store Locations\n",
            "1-Location : Store1\n",
            "2-Location : Store2\n",
            "3-Location : Store3\n",
            "\n",
            "Specify store : 3\n",
            "Present Employees are : ['John Easter']\n",
            "Updated employee list at Store3 are : ['John Easter', 'Dorothy Lee']\n",
            "\n",
            "Want to add another? Press \"Yes\" / \"No\" : yes\n",
            "Press 1 : To Add an employee\n",
            "Press 2 : To drop an employee\n",
            "Press 3 : Finish\n",
            "\n",
            "Add / Drop/ Finish? : 1\n",
            "\n",
            "Store Locations\n",
            "1-Location : Store1\n",
            "2-Location : Store2\n",
            "3-Location : Store3\n",
            "\n",
            "Specify store : 2\n",
            "Present Employees are : ['Joseph Lester']\n",
            "Updated employee list at Store2 are : ['Joseph Lester', 'Linda Cunningham']\n",
            "\n",
            "Want to add another? Press \"Yes\" / \"No\" : yes\n",
            "Press 1 : To Add an employee\n",
            "Press 2 : To drop an employee\n",
            "Press 3 : Finish\n",
            "\n",
            "Add / Drop/ Finish? : 1\n",
            "\n",
            "Store Locations\n",
            "1-Location : Store1\n",
            "2-Location : Store2\n",
            "3-Location : Store3\n",
            "\n",
            "Specify store : 3\n",
            "Present Employees are : ['John Easter', 'Dorothy Lee']\n",
            "Updated employee list at Store3 are : ['John Easter', 'Dorothy Lee', 'Eric Mcneill']\n",
            "\n",
            "Want to add another? Press \"Yes\" / \"No\" : yes\n",
            "Press 1 : To Add an employee\n",
            "Press 2 : To drop an employee\n",
            "Press 3 : Finish\n",
            "\n",
            "Add / Drop/ Finish? : 1\n",
            "\n",
            "Store Locations\n",
            "1-Location : Store1\n",
            "2-Location : Store2\n",
            "3-Location : Store3\n",
            "\n",
            "Specify store : 1\n",
            "Present Employees are : ['Juanita Bard', 'Carolyn Jackson']\n",
            "Updated employee list at Store1 are : ['Juanita Bard', 'Carolyn Jackson', 'Paulette Alexander']\n",
            "\n",
            "Want to add another? Press \"Yes\" / \"No\" : yes\n",
            "Press 1 : To Add an employee\n",
            "Press 2 : To drop an employee\n",
            "Press 3 : Finish\n",
            "\n",
            "Add / Drop/ Finish? : 1\n",
            "\n",
            "Store Locations\n",
            "1-Location : Store1\n",
            "2-Location : Store2\n",
            "3-Location : Store3\n",
            "\n",
            "Specify store : 2\n",
            "Present Employees are : ['Joseph Lester', 'Linda Cunningham']\n",
            "Updated employee list at Store2 are : ['Joseph Lester', 'Linda Cunningham', 'Tammy Baldwin']\n",
            "\n",
            "Want to add another? Press \"Yes\" / \"No\" : yes\n",
            "Press 1 : To Add an employee\n",
            "Press 2 : To drop an employee\n",
            "Press 3 : Finish\n",
            "\n",
            "Add / Drop/ Finish? : 1\n",
            "\n",
            "Store Locations\n",
            "1-Location : Store1\n",
            "2-Location : Store2\n",
            "3-Location : Store3\n",
            "\n",
            "Specify store : 2\n",
            "Present Employees are : ['Joseph Lester', 'Linda Cunningham', 'Tammy Baldwin']\n",
            "Updated employee list at Store2 are : ['Joseph Lester', 'Linda Cunningham', 'Tammy Baldwin', 'Edgar Chui']\n",
            "\n",
            "Want to add another? Press \"Yes\" / \"No\" : Yes\n",
            "Press 1 : To Add an employee\n",
            "Press 2 : To drop an employee\n",
            "Press 3 : Finish\n",
            "\n",
            "Add / Drop/ Finish? : 2\n",
            "\n",
            "Store Locations\n",
            "1-Location : Store1\n",
            "2-Location : Store2\n",
            "3-Location : Store3\n",
            "\n",
            "Specify store.Press 1/2/3 : 3\n",
            "Enter employee full name in format \"abcde efghi\" : John Easter\n",
            "John Easter has been removed from pay-roll\n",
            "Press 1 : To Add an employee\n",
            "Press 2 : To drop an employee\n",
            "Press 3 : Finish\n",
            "\n",
            "Add / Drop/ Finish? : 2\n",
            "\n",
            "Store Locations\n",
            "1-Location : Store1\n",
            "2-Location : Store2\n",
            "3-Location : Store3\n",
            "\n",
            "Specify store.Press 1/2/3 : 2\n",
            "Enter employee full name in format \"abcde efghi\" : Linda Cunningham\n",
            "Linda Cunningham has been removed from pay-roll\n",
            "Press 1 : To Add an employee\n",
            "Press 2 : To drop an employee\n",
            "Press 3 : Finish\n",
            "\n",
            "Add / Drop/ Finish? : 3\n",
            "You want to add more employess? Press \"Yes\" / \"No\" : no\n",
            "You are done\n"
          ],
          "name": "stdout"
        }
      ]
    },
    {
      "cell_type": "markdown",
      "metadata": {
        "id": "Tvsa-egeMnwV"
      },
      "source": [
        "###Getting employee names from each store"
      ]
    },
    {
      "cell_type": "code",
      "metadata": {
        "colab": {
          "base_uri": "https://localhost:8080/"
        },
        "id": "LEYQWEV_8M5e",
        "outputId": "e99a45b1-eecb-448e-da11-b7449cac131d"
      },
      "source": [
        "b.get_employee_list()"
      ],
      "execution_count": null,
      "outputs": [
        {
          "output_type": "stream",
          "text": [
            "\n",
            "Store-1\n",
            "Juanita Bard\n",
            "Carolyn Jackson\n",
            "Paulette Alexander\n",
            "\n",
            "Store-2\n",
            "Joseph Lester\n",
            "Tammy Baldwin\n",
            "Edgar Chui\n",
            "\n",
            "Store-3\n",
            "Dorothy Lee\n",
            "Eric Mcneill\n"
          ],
          "name": "stdout"
        }
      ]
    },
    {
      "cell_type": "markdown",
      "metadata": {
        "id": "J4WgQYWOvDDY"
      },
      "source": [
        "#**Sorting**"
      ]
    },
    {
      "cell_type": "code",
      "metadata": {
        "id": "IRgTxriN9NJI"
      },
      "source": [
        "def mergeSort(array,orders):\n",
        "    '''Use merge sorting to sort orders by date and order amount'''\n",
        "    if len(array) > 1:\n",
        "        mid = len(array)//2\n",
        "        left = array[:mid]\n",
        "        ordersL = orders[:mid]\n",
        "        right = array[mid:]\n",
        "        ordersR = orders[mid:]\n",
        "        mergeSort(left, ordersL)\n",
        "        mergeSort(right, ordersR)\n",
        " \n",
        "        i = j = k = 0\n",
        "        while i < len(left) and j < len(right):\n",
        "            if left[i] < right[j]:\n",
        "                array[k] = left[i]\n",
        "                orders[k] = ordersL[i]\n",
        "                i += 1\n",
        "            else:\n",
        "                array[k] = right[j]\n",
        "                orders[k] = ordersR[j]\n",
        "                j += 1\n",
        "            k += 1\n",
        "        while i < len(left):\n",
        "            array[k] = left[i]\n",
        "            orders[k] = ordersL[i]\n",
        "            i += 1\n",
        "            k += 1\n",
        "        while j < len(right):\n",
        "            array[k] = right[j]\n",
        "            orders[k] = ordersR[j]\n",
        "            j += 1\n",
        "            k += 1"
      ],
      "execution_count": null,
      "outputs": []
    },
    {
      "cell_type": "markdown",
      "metadata": {
        "id": "pXXLPWiLu4KJ"
      },
      "source": [
        "**Sort PizzaOrder by order date and total order amount**"
      ]
    },
    {
      "cell_type": "code",
      "metadata": {
        "id": "iWP2cm_IDIFE"
      },
      "source": [
        "def sort_by_date_or_amount(orders):\n",
        "  '''Sort order by date and order amount using Binary Search and Merge sort'''\n",
        "  print('Sort order by order amount : Press 1\\nSort order by date : Press 2')\n",
        "  opt=int(input('Enter your choice : '))\n",
        "  if opt == 1:\n",
        "    by_amount = [i[2] for i in orders]\n",
        "    mergeSort(by_amount, orders)\n",
        "  if opt == 2:\n",
        "    by_date = [(datetime.datetime.strptime(i[4], '%m/%d/%Y')).date() for i in orders]\n",
        "    mergeSort(by_date, orders)\n",
        "  print(orders)"
      ],
      "execution_count": null,
      "outputs": []
    },
    {
      "cell_type": "code",
      "metadata": {
        "id": "Rogq5tkzAIR5",
        "colab": {
          "base_uri": "https://localhost:8080/"
        },
        "outputId": "46216441-d2ed-4a92-c249-36f17c64d7da"
      },
      "source": [
        "sort_by_date_or_amount(orders)\n",
        "#Sorting by amount"
      ],
      "execution_count": null,
      "outputs": [
        {
          "output_type": "stream",
          "text": [
            "Sort order by order amount : Press 1\n",
            "Sort order by date : Press 2\n",
            "Enter your choice : 1\n",
            "[['Julie Ferber', ['Cheese Burst Pizza'], 3.32, 'Store1', '04/12/2021', '+1498-270-5870', 'ORDER_READY'], ['Todd Dreese', ['Cheese Burst Pizza'], 6.47, 'Store3', '09/10/2021', '+1476-258-7503', 'ORDER_CREATED'], ['Angela Lenoir', ['Cheese Burst Pizza'], 7.05, 'Store1', '12/01/2021', '+1620-518-1085', 'ORDER_CANCELED'], ['James Hester', ['Chicken Pizza'], 7.39, 'Store3', '09/09/2020', '+1107-725-8059', 'ORDER_CANCELED'], ['Gordon Galindo', ['Teriyaki Chicken Pizza'], 7.53, 'Store1', '10/12/2021', '+1939-746-6600', 'ORDER_ON_DELIVERY'], ['Elisa Saeteun', ['BBQ Chicken'], 7.71, 'Store1', '08/29/2021', '+1535-680-7140', 'ORDER_COMPLETE'], ['Earl Toledo', ['Teriyaki Chicken Pizza'], 10.44, 'Store2', '08/07/2020', '+1134-508-8000', 'ORDER_COMPLETE'], ['Beatrice Davis', ['Cheese Burst Pizza', 'Pepperoni Pizza'], 12.03, 'Store2', '10/24/2021', '+1960-854-2320', 'ORDER_ON_DELIVERY'], ['David Vogel', ['Cheese Burst Pizza', 'Cheese Burst Pizza', 'Cheese Burst Pizza'], 12.18, 'Store1', '06/13/2020', '+1490-333-9560', 'ORDER_ON_DELIVERY'], ['Kevin Deboard', ['Pepperoni Pizza', 'Cheese Burst Pizza'], 14.04, 'Store1', '05/08/2021', '+1873-579-8883', 'ORDER_COMPLETE'], ['Jeanne Stewart', ['Teriyaki Chicken Pizza'], 14.55, 'Store2', '08/13/2020', '+1568-959-6809', 'ORDER_ON_DELIVERY'], ['Dennis Mcinnis', ['Cheese Burst Pizza', 'Teriyaki Chicken Pizza'], 16.64, 'Store2', '01/03/2021', '+1530-803-9359', 'ORDER_CREATED'], ['Aaron Rojas', ['Teriyaki Chicken Pizza', 'Pepperoni Pizza', 'BBQ Chicken'], 22.97, 'Store2', '01/15/2021', '+1605-327-2347', 'ORDER_COMPLETE'], ['Victor Woolsey', ['Teriyaki Chicken Pizza', 'Chicken Pizza', 'Cheese Burst Pizza'], 27.38, 'Store3', '08/26/2021', '+1774-569-6056', 'ORDER_ON_DELIVERY'], ['Kirk Kelly', ['Cheese Burst Pizza', 'Chicken Pizza', 'Teriyaki Chicken Pizza', 'Cheese Burst Pizza'], 35.0, 'Store3', '09/03/2020', '+1412-887-1586', 'ORDER_CREATED']]\n"
          ],
          "name": "stdout"
        }
      ]
    },
    {
      "cell_type": "code",
      "metadata": {
        "colab": {
          "base_uri": "https://localhost:8080/"
        },
        "id": "DFPMHacOLd5e",
        "outputId": "0d831f9e-bfee-46af-cfdd-226eb01e6eec"
      },
      "source": [
        "sort_by_date_or_amount(orders)\n",
        "#Sorting by date"
      ],
      "execution_count": null,
      "outputs": [
        {
          "output_type": "stream",
          "text": [
            "Sort order by order amount : Press 1\n",
            "Sort order by date : Press 2\n",
            "Enter your choice : 2\n",
            "[['David Vogel', ['Cheese Burst Pizza', 'Cheese Burst Pizza', 'Cheese Burst Pizza'], 12.18, 'Store1', '06/13/2020', '+1490-333-9560', 'ORDER_ON_DELIVERY'], ['Earl Toledo', ['Teriyaki Chicken Pizza'], 10.44, 'Store2', '08/07/2020', '+1134-508-8000', 'ORDER_COMPLETE'], ['Jeanne Stewart', ['Teriyaki Chicken Pizza'], 14.55, 'Store2', '08/13/2020', '+1568-959-6809', 'ORDER_ON_DELIVERY'], ['Kirk Kelly', ['Cheese Burst Pizza', 'Chicken Pizza', 'Teriyaki Chicken Pizza', 'Cheese Burst Pizza'], 35.0, 'Store3', '09/03/2020', '+1412-887-1586', 'ORDER_CREATED'], ['James Hester', ['Chicken Pizza'], 7.39, 'Store3', '09/09/2020', '+1107-725-8059', 'ORDER_CANCELED'], ['Dennis Mcinnis', ['Cheese Burst Pizza', 'Teriyaki Chicken Pizza'], 16.64, 'Store2', '01/03/2021', '+1530-803-9359', 'ORDER_CREATED'], ['Aaron Rojas', ['Teriyaki Chicken Pizza', 'Pepperoni Pizza', 'BBQ Chicken'], 22.97, 'Store2', '01/15/2021', '+1605-327-2347', 'ORDER_COMPLETE'], ['Julie Ferber', ['Cheese Burst Pizza'], 3.32, 'Store1', '04/12/2021', '+1498-270-5870', 'ORDER_READY'], ['Kevin Deboard', ['Pepperoni Pizza', 'Cheese Burst Pizza'], 14.04, 'Store1', '05/08/2021', '+1873-579-8883', 'ORDER_COMPLETE'], ['Victor Woolsey', ['Teriyaki Chicken Pizza', 'Chicken Pizza', 'Cheese Burst Pizza'], 27.38, 'Store3', '08/26/2021', '+1774-569-6056', 'ORDER_ON_DELIVERY'], ['Elisa Saeteun', ['BBQ Chicken'], 7.71, 'Store1', '08/29/2021', '+1535-680-7140', 'ORDER_COMPLETE'], ['Todd Dreese', ['Cheese Burst Pizza'], 6.47, 'Store3', '09/10/2021', '+1476-258-7503', 'ORDER_CREATED'], ['Gordon Galindo', ['Teriyaki Chicken Pizza'], 7.53, 'Store1', '10/12/2021', '+1939-746-6600', 'ORDER_ON_DELIVERY'], ['Beatrice Davis', ['Cheese Burst Pizza', 'Pepperoni Pizza'], 12.03, 'Store2', '10/24/2021', '+1960-854-2320', 'ORDER_ON_DELIVERY'], ['Angela Lenoir', ['Cheese Burst Pizza'], 7.05, 'Store1', '12/01/2021', '+1620-518-1085', 'ORDER_CANCELED']]\n"
          ],
          "name": "stdout"
        }
      ]
    },
    {
      "cell_type": "markdown",
      "metadata": {
        "id": "nX9zhTSlvWHH"
      },
      "source": [
        "#**Searching**"
      ]
    },
    {
      "cell_type": "code",
      "metadata": {
        "id": "pezqFPfnKRc9"
      },
      "source": [
        "def binary_search(array,e):\n",
        "  '''Used binary search because it is fastest.Array is merge sorted before searched'''\n",
        "  left = 0\n",
        "  right = len(array) - 1\n",
        "  while (left <= right): \n",
        "      middle = (left + right) // 2\n",
        "      if (array[middle] == e): \n",
        "          return middle\n",
        "      elif (array[middle] < e): \n",
        "          left = middle + 1\n",
        "      else: \n",
        "          right = middle - 1\n",
        "  return 'Not Found'"
      ],
      "execution_count": null,
      "outputs": []
    },
    {
      "cell_type": "markdown",
      "metadata": {
        "id": "z4FvnlB4wery"
      },
      "source": [
        "#####**Searching PizzaOrder by customer.**\n",
        "#####**Searching PizzaOrder by order date.**\n",
        "#####**Get a list of orders prior to a certain date in sorted order by date.**\n",
        "#####**Get a list of orders after a certain date in sorted order by date.**"
      ]
    },
    {
      "cell_type": "code",
      "metadata": {
        "id": "HpwI1ZICBUAh"
      },
      "source": [
        "def search_by_name_or_date(orders):\n",
        "  '''Searches list of orders for a specific name or date and print order.Also prints range of orders before and after a certain date'''\n",
        "  print('Search order by name : Press 1\\nSearch order by date : Press 2\\nGet orders list before certain date : Press 3\\nGet orders list after certain date : Press 4')\n",
        "  user_inp=int(input('Press 1/2/3/4 : '))\n",
        "  if user_inp == 1:\n",
        "    ordername = [i[0] for i in orders]\n",
        "    mergeSort(ordername, orders)\n",
        "    give_name=str(input('Enter customer name(Firstname<space>Lastname) : '))\n",
        "    print(orders[binary_search(ordername,give_name)])\n",
        "  else:\n",
        "    \n",
        "    orderdate = [i[4] for i in orders]\n",
        "    mergeSort(orderdate, orders)\n",
        "    if user_inp == 2: \n",
        "      give_date=str(input('Enter order date(mm/dd/yyyy) : '))\n",
        "      print(orders[binary_search(orderdate,give_date)])\n",
        "    elif user_inp == 3:\n",
        "      prior_date=str(input('Enter order date(mm/dd/yyyy) : '))\n",
        "      print(orders[:binary_search(orderdate,prior_date)])\n",
        "    elif user_inp == 4:\n",
        "      after_date=str(input('Enter order date(mm/dd/yyyy) : '))\n",
        "      print(orders[binary_search(orderdate,after_date)+1:])"
      ],
      "execution_count": null,
      "outputs": []
    },
    {
      "cell_type": "code",
      "metadata": {
        "id": "olQ0ILcpj7Oa",
        "colab": {
          "base_uri": "https://localhost:8080/"
        },
        "outputId": "509546e0-1215-4426-8e59-db9dd4dac151"
      },
      "source": [
        "search_by_name_or_date(orders)\n",
        "#Search order by name"
      ],
      "execution_count": null,
      "outputs": [
        {
          "output_type": "stream",
          "text": [
            "Search order by name : Press 1\n",
            "Search order by date : Press 2\n",
            "Get orders list before certain date : Press 3\n",
            "Get orders list after certain date : Press 4\n",
            "Press 1/2/3/4 : 1\n",
            "Enter customer name(Firstname<space>Lastname) : Todd Dreese\n",
            "['Todd Dreese', ['Cheese Burst Pizza'], 6.47, 'Store3', '09/10/2021', '+1476-258-7503', 'ORDER_CREATED']\n"
          ],
          "name": "stdout"
        }
      ]
    },
    {
      "cell_type": "code",
      "metadata": {
        "colab": {
          "base_uri": "https://localhost:8080/"
        },
        "id": "_6-2snnuL39Y",
        "outputId": "f8bf947c-506e-4c29-a0d2-4dd7a3c57c54"
      },
      "source": [
        "search_by_name_or_date(orders)\n",
        "#Search order by date"
      ],
      "execution_count": null,
      "outputs": [
        {
          "output_type": "stream",
          "text": [
            "Search order by name : Press 1\n",
            "Search order by date : Press 2\n",
            "Get orders list before certain date : Press 3\n",
            "Get orders list after certain date : Press 4\n",
            "Press 1/2/3/4 : 2\n",
            "Enter order date(mm/dd/yyyy) : 08/07/2020\n",
            "['Earl Toledo', ['Teriyaki Chicken Pizza'], 10.44, 'Store2', '08/07/2020', '+1134-508-8000', 'ORDER_COMPLETE']\n"
          ],
          "name": "stdout"
        }
      ]
    },
    {
      "cell_type": "code",
      "metadata": {
        "colab": {
          "base_uri": "https://localhost:8080/"
        },
        "id": "TtobeAgWL6nS",
        "outputId": "c6c50b4c-7ba8-47fb-ba59-867345fb399a"
      },
      "source": [
        "search_by_name_or_date(orders)\n",
        "#Get list of order prior to a date specified by user"
      ],
      "execution_count": null,
      "outputs": [
        {
          "output_type": "stream",
          "text": [
            "Search order by name : Press 1\n",
            "Search order by date : Press 2\n",
            "Get orders list before certain date : Press 3\n",
            "Get orders list after certain date : Press 4\n",
            "Press 1/2/3/4 : 3\n",
            "Enter order date(mm/dd/yyyy) : 04/12/2021\n",
            "[['Dennis Mcinnis', ['Cheese Burst Pizza', 'Teriyaki Chicken Pizza'], 16.64, 'Store2', '01/03/2021', '+1530-803-9359', 'ORDER_CREATED'], ['Aaron Rojas', ['Teriyaki Chicken Pizza', 'Pepperoni Pizza', 'BBQ Chicken'], 22.97, 'Store2', '01/15/2021', '+1605-327-2347', 'ORDER_COMPLETE']]\n"
          ],
          "name": "stdout"
        }
      ]
    },
    {
      "cell_type": "code",
      "metadata": {
        "colab": {
          "base_uri": "https://localhost:8080/"
        },
        "id": "AWLyh0f7MC44",
        "outputId": "ce62078d-1ec3-41cd-9a25-b10bb124d8e1"
      },
      "source": [
        "search_by_name_or_date(orders)\n",
        "#Get list of order after a date specified by user"
      ],
      "execution_count": null,
      "outputs": [
        {
          "output_type": "stream",
          "text": [
            "Search order by name : Press 1\n",
            "Search order by date : Press 2\n",
            "Get orders list before certain date : Press 3\n",
            "Get orders list after certain date : Press 4\n",
            "Press 1/2/3/4 : 4\n",
            "Enter order date(mm/dd/yyyy) : 06/13/2020\n",
            "[['Earl Toledo', ['Teriyaki Chicken Pizza'], 10.44, 'Store2', '08/07/2020', '+1134-508-8000', 'ORDER_COMPLETE'], ['Jeanne Stewart', ['Teriyaki Chicken Pizza'], 14.55, 'Store2', '08/13/2020', '+1568-959-6809', 'ORDER_ON_DELIVERY'], ['Victor Woolsey', ['Teriyaki Chicken Pizza', 'Chicken Pizza', 'Cheese Burst Pizza'], 27.38, 'Store3', '08/26/2021', '+1774-569-6056', 'ORDER_ON_DELIVERY'], ['Elisa Saeteun', ['BBQ Chicken'], 7.71, 'Store1', '08/29/2021', '+1535-680-7140', 'ORDER_COMPLETE'], ['Kirk Kelly', ['Cheese Burst Pizza', 'Chicken Pizza', 'Teriyaki Chicken Pizza', 'Cheese Burst Pizza'], 35.0, 'Store3', '09/03/2020', '+1412-887-1586', 'ORDER_CREATED'], ['James Hester', ['Chicken Pizza'], 7.39, 'Store3', '09/09/2020', '+1107-725-8059', 'ORDER_CANCELED'], ['Todd Dreese', ['Cheese Burst Pizza'], 6.47, 'Store3', '09/10/2021', '+1476-258-7503', 'ORDER_CREATED'], ['Gordon Galindo', ['Teriyaki Chicken Pizza'], 7.53, 'Store1', '10/12/2021', '+1939-746-6600', 'ORDER_ON_DELIVERY'], ['Beatrice Davis', ['Cheese Burst Pizza', 'Pepperoni Pizza'], 12.03, 'Store2', '10/24/2021', '+1960-854-2320', 'ORDER_ON_DELIVERY'], ['Angela Lenoir', ['Cheese Burst Pizza'], 7.05, 'Store1', '12/01/2021', '+1620-518-1085', 'ORDER_CANCELED']]\n"
          ],
          "name": "stdout"
        }
      ]
    },
    {
      "cell_type": "markdown",
      "metadata": {
        "id": "4UC1xFXLoTsN"
      },
      "source": [
        "#**Time Complexity**\n",
        "It describes the  total time taken to run each line of an algorithm.\n",
        "#####**Time Complexity for Sorting**:\n",
        "* sort_date_by_amount(orders) function involves a only a for loop and mergeSort method.\n",
        "* Time complexity for mergeSort is same for worst case(Big-O),best case(Big-Omega) and average case(Big-Theta) i.e. O(n*logn)\n",
        "* Time complexity for sorting, **T(n)=O(n)+ O(n*logn) = O(n*logn)**\n",
        "\n",
        "#####**Time Complexity for Searching**:\n",
        "* search_by_name_or_date(orders) has mergeSort function called,  binary search algorithm called and has only a for loop everytime user prompts  \n",
        " 1.   Time complexity for Binary Search = O(logn)\n",
        " 2.   Time complexity for Merge Sort = O(n*logn)\n",
        " 3.   Time complexity for for loop = O(n)\n",
        "* Time complexity for searching is, **T(n)=O(logn)+O(n*logn)+O(n)=O(n*logn)**\n",
        "\n",
        "\n",
        "\n",
        "   \n",
        " "
      ]
    },
    {
      "cell_type": "markdown",
      "metadata": {
        "id": "w7NIcBW-z267"
      },
      "source": [
        "#**Space Complexity**\n",
        "It describes the amount of memory an algorithm takes in terms of the amount of input to the algorithm.\n",
        "#####**Space Complexity for Sorting**:\n",
        "* sort_date_by_amount(orders) function involves a only a for loop and mergeSort method.\n",
        " * Space complexity for 'for' loop is O(1)\n",
        " * Space complexity for merge sort is O(n)\n",
        "* Space complexity for sorting is, **O(1)+O(n)=O(n)**\n",
        "\n",
        "#####**Space Complexity for Searching**:\n",
        "* search_by_name_or_date(orders) has mergeSort function called, binary search algorithm called and has only a for loop.\n",
        " * Space complexity for 'for' loop is O(1)\n",
        " * Space complexity for merge sort is O(n)\n",
        " * Space complexity for binary search is O(1)\n",
        "* Space complexity for searching, **O(1)+O(n)+O(1)=O(n)**\n",
        "\n"
      ]
    }
  ]
}